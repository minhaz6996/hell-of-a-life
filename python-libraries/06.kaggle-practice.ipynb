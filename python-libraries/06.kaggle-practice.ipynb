{
 "cells": [
  {
   "cell_type": "code",
   "execution_count": 6,
   "metadata": {},
   "outputs": [
    {
     "ename": "ModuleNotFoundError",
     "evalue": "No module named 'seaborn'",
     "output_type": "error",
     "traceback": [
      "\u001b[1;31m---------------------------------------------------------------------------\u001b[0m",
      "\u001b[1;31mModuleNotFoundError\u001b[0m                       Traceback (most recent call last)",
      "Cell \u001b[1;32mIn[6], line 3\u001b[0m\n\u001b[0;32m      1\u001b[0m \u001b[38;5;28;01mimport\u001b[39;00m \u001b[38;5;21;01mpandas\u001b[39;00m \u001b[38;5;28;01mas\u001b[39;00m \u001b[38;5;21;01mpd\u001b[39;00m\n\u001b[0;32m      2\u001b[0m \u001b[38;5;28;01mimport\u001b[39;00m \u001b[38;5;21;01mnumpy\u001b[39;00m \u001b[38;5;28;01mas\u001b[39;00m \u001b[38;5;21;01mnp\u001b[39;00m\n\u001b[1;32m----> 3\u001b[0m \u001b[38;5;28;01mimport\u001b[39;00m \u001b[38;5;21;01mseaborn\u001b[39;00m \u001b[38;5;28;01mas\u001b[39;00m \u001b[38;5;21;01msns\u001b[39;00m\n\u001b[0;32m      4\u001b[0m \u001b[38;5;28;01mimport\u001b[39;00m \u001b[38;5;21;01mmatplotlib\u001b[39;00m\u001b[38;5;21;01m.\u001b[39;00m\u001b[38;5;21;01mpyplot\u001b[39;00m \u001b[38;5;28;01mas\u001b[39;00m \u001b[38;5;21;01mplt\u001b[39;00m\n",
      "\u001b[1;31mModuleNotFoundError\u001b[0m: No module named 'seaborn'"
     ]
    }
   ],
   "source": [
    "import pandas as pd\n",
    "import numpy as np\n",
    "import seaborn as sns\n",
    "import matplotlib.pyplot as plt\n"
   ]
  },
  {
   "cell_type": "code",
   "execution_count": 7,
   "metadata": {},
   "outputs": [],
   "source": [
    "import seaborn as sns\n",
    "import scipy"
   ]
  },
  {
   "cell_type": "code",
   "execution_count": 8,
   "metadata": {},
   "outputs": [],
   "source": [
    "matplotlib inline"
   ]
  },
  {
   "cell_type": "code",
   "execution_count": 21,
   "metadata": {},
   "outputs": [],
   "source": [
    "data=pd.read_csv ('C:/Users/Minhazul Alam/Downloads/Thesis_dataset.csv')"
   ]
  },
  {
   "cell_type": "code",
   "execution_count": 13,
   "metadata": {},
   "outputs": [
    {
     "data": {
      "text/html": [
       "<div>\n",
       "<style scoped>\n",
       "    .dataframe tbody tr th:only-of-type {\n",
       "        vertical-align: middle;\n",
       "    }\n",
       "\n",
       "    .dataframe tbody tr th {\n",
       "        vertical-align: top;\n",
       "    }\n",
       "\n",
       "    .dataframe thead th {\n",
       "        text-align: right;\n",
       "    }\n",
       "</style>\n",
       "<table border=\"1\" class=\"dataframe\">\n",
       "  <thead>\n",
       "    <tr style=\"text-align: right;\">\n",
       "      <th></th>\n",
       "      <th>ID</th>\n",
       "      <th>Name</th>\n",
       "      <th>Gender</th>\n",
       "      <th>Present Address</th>\n",
       "      <th>Using transportation</th>\n",
       "      <th>Apply for another varsity</th>\n",
       "      <th>Suppose admission</th>\n",
       "      <th>Waiver</th>\n",
       "      <th>KNPwCIfIbDA</th>\n",
       "      <th>If any, give reason</th>\n",
       "      <th>IUBAT Choosing Reason</th>\n",
       "    </tr>\n",
       "  </thead>\n",
       "  <tbody>\n",
       "    <tr>\n",
       "      <th>0</th>\n",
       "      <td>20103131</td>\n",
       "      <td>Tanvir Hossain</td>\n",
       "      <td>Male</td>\n",
       "      <td>Uttara, Dhaka</td>\n",
       "      <td>0</td>\n",
       "      <td>1</td>\n",
       "      <td>1</td>\n",
       "      <td>100</td>\n",
       "      <td>0</td>\n",
       "      <td>NaN</td>\n",
       "      <td>Well_developed</td>\n",
       "    </tr>\n",
       "    <tr>\n",
       "      <th>1</th>\n",
       "      <td>19303025</td>\n",
       "      <td>Abdullah Munim Khan</td>\n",
       "      <td>Male</td>\n",
       "      <td>Mirpur, Dhaka</td>\n",
       "      <td>1</td>\n",
       "      <td>1</td>\n",
       "      <td>0</td>\n",
       "      <td>15</td>\n",
       "      <td>0</td>\n",
       "      <td>NaN</td>\n",
       "      <td>Quality_education.</td>\n",
       "    </tr>\n",
       "    <tr>\n",
       "      <th>2</th>\n",
       "      <td>20103147</td>\n",
       "      <td>Md Azhar Uddin</td>\n",
       "      <td>Male</td>\n",
       "      <td>Narayanganj</td>\n",
       "      <td>0</td>\n",
       "      <td>0</td>\n",
       "      <td>1</td>\n",
       "      <td>15</td>\n",
       "      <td>1</td>\n",
       "      <td>pandemic</td>\n",
       "      <td>Teaching_quality</td>\n",
       "    </tr>\n",
       "    <tr>\n",
       "      <th>3</th>\n",
       "      <td>19103235</td>\n",
       "      <td>Farjana Pervin Ruma</td>\n",
       "      <td>Female</td>\n",
       "      <td>Gazipur</td>\n",
       "      <td>0</td>\n",
       "      <td>1</td>\n",
       "      <td>0</td>\n",
       "      <td>100</td>\n",
       "      <td>0</td>\n",
       "      <td>NaN</td>\n",
       "      <td>NaN</td>\n",
       "    </tr>\n",
       "    <tr>\n",
       "      <th>4</th>\n",
       "      <td>19203033</td>\n",
       "      <td>Shraboni Saha Puja</td>\n",
       "      <td>Female</td>\n",
       "      <td>Mirpur, Dhaka</td>\n",
       "      <td>0</td>\n",
       "      <td>1</td>\n",
       "      <td>0</td>\n",
       "      <td>30</td>\n",
       "      <td>0</td>\n",
       "      <td>NaN</td>\n",
       "      <td>Waiver</td>\n",
       "    </tr>\n",
       "    <tr>\n",
       "      <th>...</th>\n",
       "      <td>...</td>\n",
       "      <td>...</td>\n",
       "      <td>...</td>\n",
       "      <td>...</td>\n",
       "      <td>...</td>\n",
       "      <td>...</td>\n",
       "      <td>...</td>\n",
       "      <td>...</td>\n",
       "      <td>...</td>\n",
       "      <td>...</td>\n",
       "      <td>...</td>\n",
       "    </tr>\n",
       "    <tr>\n",
       "      <th>400</th>\n",
       "      <td>19103109</td>\n",
       "      <td>Rahat Islam Rupu</td>\n",
       "      <td>Male</td>\n",
       "      <td>Uttara, Dhaka</td>\n",
       "      <td>0</td>\n",
       "      <td>1</td>\n",
       "      <td>0</td>\n",
       "      <td>0</td>\n",
       "      <td>1</td>\n",
       "      <td>Finance</td>\n",
       "      <td>NaN</td>\n",
       "    </tr>\n",
       "    <tr>\n",
       "      <th>401</th>\n",
       "      <td>19103082</td>\n",
       "      <td>Fyja Taslim Jani</td>\n",
       "      <td>Female</td>\n",
       "      <td>Gazipur</td>\n",
       "      <td>0</td>\n",
       "      <td>1</td>\n",
       "      <td>1</td>\n",
       "      <td>30</td>\n",
       "      <td>1</td>\n",
       "      <td>NaN</td>\n",
       "      <td>NaN</td>\n",
       "    </tr>\n",
       "    <tr>\n",
       "      <th>402</th>\n",
       "      <td>18103356</td>\n",
       "      <td>Nazmun Ara Sultana</td>\n",
       "      <td>Female</td>\n",
       "      <td>Cantonment, Dhaka</td>\n",
       "      <td>0</td>\n",
       "      <td>0</td>\n",
       "      <td>0</td>\n",
       "      <td>20</td>\n",
       "      <td>0</td>\n",
       "      <td>NaN</td>\n",
       "      <td>Rules</td>\n",
       "    </tr>\n",
       "    <tr>\n",
       "      <th>403</th>\n",
       "      <td>18103255</td>\n",
       "      <td>Ripat Ahmed Apu</td>\n",
       "      <td>Male</td>\n",
       "      <td>Uttara, Dhaka</td>\n",
       "      <td>1</td>\n",
       "      <td>0</td>\n",
       "      <td>0</td>\n",
       "      <td>20</td>\n",
       "      <td>0</td>\n",
       "      <td>NaN</td>\n",
       "      <td>Beautiful_campus</td>\n",
       "    </tr>\n",
       "    <tr>\n",
       "      <th>404</th>\n",
       "      <td>16103121</td>\n",
       "      <td>Sadia Tasnim</td>\n",
       "      <td>Female</td>\n",
       "      <td>Narayanganj</td>\n",
       "      <td>0</td>\n",
       "      <td>1</td>\n",
       "      <td>0</td>\n",
       "      <td>40</td>\n",
       "      <td>1</td>\n",
       "      <td>Family_problem</td>\n",
       "      <td>NaN</td>\n",
       "    </tr>\n",
       "  </tbody>\n",
       "</table>\n",
       "<p>405 rows × 11 columns</p>\n",
       "</div>"
      ],
      "text/plain": [
       "           ID                    Name  Gender    Present Address  \\\n",
       "0    20103131         Tanvir Hossain     Male      Uttara, Dhaka   \n",
       "1    19303025  Abdullah Munim Khan       Male      Mirpur, Dhaka   \n",
       "2    20103147          Md Azhar Uddin    Male        Narayanganj   \n",
       "3    19103235  Farjana Pervin Ruma     Female            Gazipur   \n",
       "4    19203033      Shraboni Saha Puja  Female      Mirpur, Dhaka   \n",
       "..        ...                     ...     ...                ...   \n",
       "400  19103109        Rahat Islam Rupu    Male      Uttara, Dhaka   \n",
       "401  19103082        Fyja Taslim Jani  Female            Gazipur   \n",
       "402  18103356      Nazmun Ara Sultana  Female  Cantonment, Dhaka   \n",
       "403  18103255         Ripat Ahmed Apu    Male      Uttara, Dhaka   \n",
       "404  16103121            Sadia Tasnim  Female        Narayanganj   \n",
       "\n",
       "     Using transportation  Apply for another varsity  Suppose admission  \\\n",
       "0                       0                          1                  1   \n",
       "1                       1                          1                  0   \n",
       "2                       0                          0                  1   \n",
       "3                       0                          1                  0   \n",
       "4                       0                          1                  0   \n",
       "..                    ...                        ...                ...   \n",
       "400                     0                          1                  0   \n",
       "401                     0                          1                  1   \n",
       "402                     0                          0                  0   \n",
       "403                     1                          0                  0   \n",
       "404                     0                          1                  0   \n",
       "\n",
       "     Waiver  KNPwCIfIbDA If any, give reason IUBAT Choosing Reason  \n",
       "0       100            0                 NaN        Well_developed  \n",
       "1        15            0                 NaN   Quality_education.   \n",
       "2        15            1            pandemic      Teaching_quality  \n",
       "3       100            0                 NaN                   NaN  \n",
       "4        30            0                 NaN                Waiver  \n",
       "..      ...          ...                 ...                   ...  \n",
       "400       0            1             Finance                   NaN  \n",
       "401      30            1                 NaN                   NaN  \n",
       "402      20            0                 NaN                 Rules  \n",
       "403      20            0                 NaN      Beautiful_campus  \n",
       "404      40            1      Family_problem                   NaN  \n",
       "\n",
       "[405 rows x 11 columns]"
      ]
     },
     "execution_count": 13,
     "metadata": {},
     "output_type": "execute_result"
    }
   ],
   "source": [
    "data"
   ]
  },
  {
   "cell_type": "code",
   "execution_count": 14,
   "metadata": {},
   "outputs": [
    {
     "data": {
      "text/html": [
       "<div>\n",
       "<style scoped>\n",
       "    .dataframe tbody tr th:only-of-type {\n",
       "        vertical-align: middle;\n",
       "    }\n",
       "\n",
       "    .dataframe tbody tr th {\n",
       "        vertical-align: top;\n",
       "    }\n",
       "\n",
       "    .dataframe thead th {\n",
       "        text-align: right;\n",
       "    }\n",
       "</style>\n",
       "<table border=\"1\" class=\"dataframe\">\n",
       "  <thead>\n",
       "    <tr style=\"text-align: right;\">\n",
       "      <th></th>\n",
       "      <th>ID</th>\n",
       "      <th>Name</th>\n",
       "      <th>Gender</th>\n",
       "      <th>Present Address</th>\n",
       "      <th>Using transportation</th>\n",
       "      <th>Apply for another varsity</th>\n",
       "      <th>Suppose admission</th>\n",
       "      <th>Waiver</th>\n",
       "      <th>KNPwCIfIbDA</th>\n",
       "      <th>If any, give reason</th>\n",
       "      <th>IUBAT Choosing Reason</th>\n",
       "    </tr>\n",
       "  </thead>\n",
       "  <tbody>\n",
       "    <tr>\n",
       "      <th>0</th>\n",
       "      <td>20103131</td>\n",
       "      <td>Tanvir Hossain</td>\n",
       "      <td>Male</td>\n",
       "      <td>Uttara, Dhaka</td>\n",
       "      <td>0</td>\n",
       "      <td>1</td>\n",
       "      <td>1</td>\n",
       "      <td>100</td>\n",
       "      <td>0</td>\n",
       "      <td>NaN</td>\n",
       "      <td>Well_developed</td>\n",
       "    </tr>\n",
       "    <tr>\n",
       "      <th>1</th>\n",
       "      <td>19303025</td>\n",
       "      <td>Abdullah Munim Khan</td>\n",
       "      <td>Male</td>\n",
       "      <td>Mirpur, Dhaka</td>\n",
       "      <td>1</td>\n",
       "      <td>1</td>\n",
       "      <td>0</td>\n",
       "      <td>15</td>\n",
       "      <td>0</td>\n",
       "      <td>NaN</td>\n",
       "      <td>Quality_education.</td>\n",
       "    </tr>\n",
       "    <tr>\n",
       "      <th>2</th>\n",
       "      <td>20103147</td>\n",
       "      <td>Md Azhar Uddin</td>\n",
       "      <td>Male</td>\n",
       "      <td>Narayanganj</td>\n",
       "      <td>0</td>\n",
       "      <td>0</td>\n",
       "      <td>1</td>\n",
       "      <td>15</td>\n",
       "      <td>1</td>\n",
       "      <td>pandemic</td>\n",
       "      <td>Teaching_quality</td>\n",
       "    </tr>\n",
       "    <tr>\n",
       "      <th>3</th>\n",
       "      <td>19103235</td>\n",
       "      <td>Farjana Pervin Ruma</td>\n",
       "      <td>Female</td>\n",
       "      <td>Gazipur</td>\n",
       "      <td>0</td>\n",
       "      <td>1</td>\n",
       "      <td>0</td>\n",
       "      <td>100</td>\n",
       "      <td>0</td>\n",
       "      <td>NaN</td>\n",
       "      <td>NaN</td>\n",
       "    </tr>\n",
       "    <tr>\n",
       "      <th>4</th>\n",
       "      <td>19203033</td>\n",
       "      <td>Shraboni Saha Puja</td>\n",
       "      <td>Female</td>\n",
       "      <td>Mirpur, Dhaka</td>\n",
       "      <td>0</td>\n",
       "      <td>1</td>\n",
       "      <td>0</td>\n",
       "      <td>30</td>\n",
       "      <td>0</td>\n",
       "      <td>NaN</td>\n",
       "      <td>Waiver</td>\n",
       "    </tr>\n",
       "  </tbody>\n",
       "</table>\n",
       "</div>"
      ],
      "text/plain": [
       "         ID                    Name  Gender Present Address  \\\n",
       "0  20103131         Tanvir Hossain     Male   Uttara, Dhaka   \n",
       "1  19303025  Abdullah Munim Khan       Male   Mirpur, Dhaka   \n",
       "2  20103147          Md Azhar Uddin    Male     Narayanganj   \n",
       "3  19103235  Farjana Pervin Ruma     Female         Gazipur   \n",
       "4  19203033      Shraboni Saha Puja  Female   Mirpur, Dhaka   \n",
       "\n",
       "   Using transportation  Apply for another varsity  Suppose admission  Waiver  \\\n",
       "0                     0                          1                  1     100   \n",
       "1                     1                          1                  0      15   \n",
       "2                     0                          0                  1      15   \n",
       "3                     0                          1                  0     100   \n",
       "4                     0                          1                  0      30   \n",
       "\n",
       "   KNPwCIfIbDA If any, give reason IUBAT Choosing Reason  \n",
       "0            0                 NaN        Well_developed  \n",
       "1            0                 NaN   Quality_education.   \n",
       "2            1            pandemic      Teaching_quality  \n",
       "3            0                 NaN                   NaN  \n",
       "4            0                 NaN                Waiver  "
      ]
     },
     "execution_count": 14,
     "metadata": {},
     "output_type": "execute_result"
    }
   ],
   "source": [
    "data.head()"
   ]
  },
  {
   "cell_type": "code",
   "execution_count": 15,
   "metadata": {},
   "outputs": [
    {
     "name": "stdout",
     "output_type": "stream",
     "text": [
      "<class 'pandas.core.frame.DataFrame'>\n",
      "RangeIndex: 405 entries, 0 to 404\n",
      "Data columns (total 11 columns):\n",
      " #   Column                     Non-Null Count  Dtype \n",
      "---  ------                     --------------  ----- \n",
      " 0   ID                         405 non-null    int64 \n",
      " 1   Name                       405 non-null    object\n",
      " 2   Gender                     405 non-null    object\n",
      " 3   Present Address            405 non-null    object\n",
      " 4   Using transportation       405 non-null    int64 \n",
      " 5   Apply for another varsity  405 non-null    int64 \n",
      " 6   Suppose admission          405 non-null    int64 \n",
      " 7   Waiver                     405 non-null    int64 \n",
      " 8   KNPwCIfIbDA                405 non-null    int64 \n",
      " 9   If any, give reason        139 non-null    object\n",
      " 10  IUBAT Choosing Reason      362 non-null    object\n",
      "dtypes: int64(6), object(5)\n",
      "memory usage: 34.9+ KB\n"
     ]
    }
   ],
   "source": [
    "data.info()"
   ]
  },
  {
   "cell_type": "markdown",
   "metadata": {},
   "source": [
    "# Only numeric values will count while using describe"
   ]
  },
  {
   "cell_type": "code",
   "execution_count": 16,
   "metadata": {},
   "outputs": [
    {
     "data": {
      "text/html": [
       "<div>\n",
       "<style scoped>\n",
       "    .dataframe tbody tr th:only-of-type {\n",
       "        vertical-align: middle;\n",
       "    }\n",
       "\n",
       "    .dataframe tbody tr th {\n",
       "        vertical-align: top;\n",
       "    }\n",
       "\n",
       "    .dataframe thead th {\n",
       "        text-align: right;\n",
       "    }\n",
       "</style>\n",
       "<table border=\"1\" class=\"dataframe\">\n",
       "  <thead>\n",
       "    <tr style=\"text-align: right;\">\n",
       "      <th></th>\n",
       "      <th>ID</th>\n",
       "      <th>Using transportation</th>\n",
       "      <th>Apply for another varsity</th>\n",
       "      <th>Suppose admission</th>\n",
       "      <th>Waiver</th>\n",
       "      <th>KNPwCIfIbDA</th>\n",
       "    </tr>\n",
       "  </thead>\n",
       "  <tbody>\n",
       "    <tr>\n",
       "      <th>count</th>\n",
       "      <td>4.050000e+02</td>\n",
       "      <td>405.000000</td>\n",
       "      <td>405.000000</td>\n",
       "      <td>405.000000</td>\n",
       "      <td>405.000000</td>\n",
       "      <td>405.000000</td>\n",
       "    </tr>\n",
       "    <tr>\n",
       "      <th>mean</th>\n",
       "      <td>1.820530e+07</td>\n",
       "      <td>0.464198</td>\n",
       "      <td>0.696296</td>\n",
       "      <td>0.622222</td>\n",
       "      <td>41.125926</td>\n",
       "      <td>0.412346</td>\n",
       "    </tr>\n",
       "    <tr>\n",
       "      <th>std</th>\n",
       "      <td>1.761185e+06</td>\n",
       "      <td>0.499333</td>\n",
       "      <td>0.460425</td>\n",
       "      <td>0.485431</td>\n",
       "      <td>33.251315</td>\n",
       "      <td>0.492866</td>\n",
       "    </tr>\n",
       "    <tr>\n",
       "      <th>min</th>\n",
       "      <td>2.010320e+06</td>\n",
       "      <td>0.000000</td>\n",
       "      <td>0.000000</td>\n",
       "      <td>0.000000</td>\n",
       "      <td>0.000000</td>\n",
       "      <td>0.000000</td>\n",
       "    </tr>\n",
       "    <tr>\n",
       "      <th>25%</th>\n",
       "      <td>1.720306e+07</td>\n",
       "      <td>0.000000</td>\n",
       "      <td>0.000000</td>\n",
       "      <td>0.000000</td>\n",
       "      <td>15.000000</td>\n",
       "      <td>0.000000</td>\n",
       "    </tr>\n",
       "    <tr>\n",
       "      <th>50%</th>\n",
       "      <td>1.820308e+07</td>\n",
       "      <td>0.000000</td>\n",
       "      <td>1.000000</td>\n",
       "      <td>1.000000</td>\n",
       "      <td>30.000000</td>\n",
       "      <td>0.000000</td>\n",
       "    </tr>\n",
       "    <tr>\n",
       "      <th>75%</th>\n",
       "      <td>1.910323e+07</td>\n",
       "      <td>1.000000</td>\n",
       "      <td>1.000000</td>\n",
       "      <td>1.000000</td>\n",
       "      <td>60.000000</td>\n",
       "      <td>1.000000</td>\n",
       "    </tr>\n",
       "    <tr>\n",
       "      <th>max</th>\n",
       "      <td>2.020306e+07</td>\n",
       "      <td>1.000000</td>\n",
       "      <td>1.000000</td>\n",
       "      <td>1.000000</td>\n",
       "      <td>100.000000</td>\n",
       "      <td>1.000000</td>\n",
       "    </tr>\n",
       "  </tbody>\n",
       "</table>\n",
       "</div>"
      ],
      "text/plain": [
       "                 ID  Using transportation  Apply for another varsity  \\\n",
       "count  4.050000e+02            405.000000                 405.000000   \n",
       "mean   1.820530e+07              0.464198                   0.696296   \n",
       "std    1.761185e+06              0.499333                   0.460425   \n",
       "min    2.010320e+06              0.000000                   0.000000   \n",
       "25%    1.720306e+07              0.000000                   0.000000   \n",
       "50%    1.820308e+07              0.000000                   1.000000   \n",
       "75%    1.910323e+07              1.000000                   1.000000   \n",
       "max    2.020306e+07              1.000000                   1.000000   \n",
       "\n",
       "       Suppose admission      Waiver  KNPwCIfIbDA  \n",
       "count         405.000000  405.000000   405.000000  \n",
       "mean            0.622222   41.125926     0.412346  \n",
       "std             0.485431   33.251315     0.492866  \n",
       "min             0.000000    0.000000     0.000000  \n",
       "25%             0.000000   15.000000     0.000000  \n",
       "50%             1.000000   30.000000     0.000000  \n",
       "75%             1.000000   60.000000     1.000000  \n",
       "max             1.000000  100.000000     1.000000  "
      ]
     },
     "execution_count": 16,
     "metadata": {},
     "output_type": "execute_result"
    }
   ],
   "source": [
    "data.describe()"
   ]
  },
  {
   "cell_type": "code",
   "execution_count": 17,
   "metadata": {},
   "outputs": [
    {
     "data": {
      "text/plain": [
       "(405, 11)"
      ]
     },
     "execution_count": 17,
     "metadata": {},
     "output_type": "execute_result"
    }
   ],
   "source": [
    "data.shape"
   ]
  },
  {
   "cell_type": "code",
   "execution_count": 18,
   "metadata": {},
   "outputs": [
    {
     "data": {
      "text/plain": [
       "ID                             0\n",
       "Name                           0\n",
       "Gender                         0\n",
       "Present Address                0\n",
       "Using transportation           0\n",
       "Apply for another varsity      0\n",
       "Suppose admission              0\n",
       "Waiver                         0\n",
       "KNPwCIfIbDA                    0\n",
       "If any, give reason          266\n",
       "IUBAT Choosing Reason         43\n",
       "dtype: int64"
      ]
     },
     "execution_count": 18,
     "metadata": {},
     "output_type": "execute_result"
    }
   ],
   "source": [
    "# any null values\n",
    "\n",
    "data.isnull().sum()"
   ]
  },
  {
   "cell_type": "code",
   "execution_count": 19,
   "metadata": {},
   "outputs": [
    {
     "data": {
      "text/plain": [
       "<Axes: >"
      ]
     },
     "execution_count": 19,
     "metadata": {},
     "output_type": "execute_result"
    },
    {
     "data": {
      "image/png": "[encoded data removed]",
      "text/plain": [
       "<Figure size 640x480 with 2 Axes>"
      ]
     },
     "metadata": {},
     "output_type": "display_data"
    }
   ],
   "source": [
    "# show null values\n",
    "\n",
    "sns.heatmap(data.isnull())"
   ]
  },
  {
   "cell_type": "code",
   "execution_count": 20,
   "metadata": {},
   "outputs": [
    {
     "data": {
      "text/html": [
       "<div>\n",
       "<style scoped>\n",
       "    .dataframe tbody tr th:only-of-type {\n",
       "        vertical-align: middle;\n",
       "    }\n",
       "\n",
       "    .dataframe tbody tr th {\n",
       "        vertical-align: top;\n",
       "    }\n",
       "\n",
       "    .dataframe thead th {\n",
       "        text-align: right;\n",
       "    }\n",
       "</style>\n",
       "<table border=\"1\" class=\"dataframe\">\n",
       "  <thead>\n",
       "    <tr style=\"text-align: right;\">\n",
       "      <th></th>\n",
       "      <th>ID</th>\n",
       "      <th>Name</th>\n",
       "      <th>Gender</th>\n",
       "      <th>Present Address</th>\n",
       "      <th>Using transportation</th>\n",
       "      <th>Apply for another varsity</th>\n",
       "      <th>Suppose admission</th>\n",
       "      <th>Waiver</th>\n",
       "      <th>KNPwCIfIbDA</th>\n",
       "      <th>If any, give reason</th>\n",
       "      <th>IUBAT Choosing Reason</th>\n",
       "    </tr>\n",
       "  </thead>\n",
       "  <tbody>\n",
       "    <tr>\n",
       "      <th>0</th>\n",
       "      <td>False</td>\n",
       "      <td>False</td>\n",
       "      <td>False</td>\n",
       "      <td>False</td>\n",
       "      <td>False</td>\n",
       "      <td>False</td>\n",
       "      <td>False</td>\n",
       "      <td>False</td>\n",
       "      <td>False</td>\n",
       "      <td>True</td>\n",
       "      <td>False</td>\n",
       "    </tr>\n",
       "    <tr>\n",
       "      <th>1</th>\n",
       "      <td>False</td>\n",
       "      <td>False</td>\n",
       "      <td>False</td>\n",
       "      <td>False</td>\n",
       "      <td>False</td>\n",
       "      <td>False</td>\n",
       "      <td>False</td>\n",
       "      <td>False</td>\n",
       "      <td>False</td>\n",
       "      <td>True</td>\n",
       "      <td>False</td>\n",
       "    </tr>\n",
       "    <tr>\n",
       "      <th>2</th>\n",
       "      <td>False</td>\n",
       "      <td>False</td>\n",
       "      <td>False</td>\n",
       "      <td>False</td>\n",
       "      <td>False</td>\n",
       "      <td>False</td>\n",
       "      <td>False</td>\n",
       "      <td>False</td>\n",
       "      <td>False</td>\n",
       "      <td>False</td>\n",
       "      <td>False</td>\n",
       "    </tr>\n",
       "    <tr>\n",
       "      <th>3</th>\n",
       "      <td>False</td>\n",
       "      <td>False</td>\n",
       "      <td>False</td>\n",
       "      <td>False</td>\n",
       "      <td>False</td>\n",
       "      <td>False</td>\n",
       "      <td>False</td>\n",
       "      <td>False</td>\n",
       "      <td>False</td>\n",
       "      <td>True</td>\n",
       "      <td>True</td>\n",
       "    </tr>\n",
       "    <tr>\n",
       "      <th>4</th>\n",
       "      <td>False</td>\n",
       "      <td>False</td>\n",
       "      <td>False</td>\n",
       "      <td>False</td>\n",
       "      <td>False</td>\n",
       "      <td>False</td>\n",
       "      <td>False</td>\n",
       "      <td>False</td>\n",
       "      <td>False</td>\n",
       "      <td>True</td>\n",
       "      <td>False</td>\n",
       "    </tr>\n",
       "    <tr>\n",
       "      <th>...</th>\n",
       "      <td>...</td>\n",
       "      <td>...</td>\n",
       "      <td>...</td>\n",
       "      <td>...</td>\n",
       "      <td>...</td>\n",
       "      <td>...</td>\n",
       "      <td>...</td>\n",
       "      <td>...</td>\n",
       "      <td>...</td>\n",
       "      <td>...</td>\n",
       "      <td>...</td>\n",
       "    </tr>\n",
       "    <tr>\n",
       "      <th>400</th>\n",
       "      <td>False</td>\n",
       "      <td>False</td>\n",
       "      <td>False</td>\n",
       "      <td>False</td>\n",
       "      <td>False</td>\n",
       "      <td>False</td>\n",
       "      <td>False</td>\n",
       "      <td>False</td>\n",
       "      <td>False</td>\n",
       "      <td>False</td>\n",
       "      <td>True</td>\n",
       "    </tr>\n",
       "    <tr>\n",
       "      <th>401</th>\n",
       "      <td>False</td>\n",
       "      <td>False</td>\n",
       "      <td>False</td>\n",
       "      <td>False</td>\n",
       "      <td>False</td>\n",
       "      <td>False</td>\n",
       "      <td>False</td>\n",
       "      <td>False</td>\n",
       "      <td>False</td>\n",
       "      <td>True</td>\n",
       "      <td>True</td>\n",
       "    </tr>\n",
       "    <tr>\n",
       "      <th>402</th>\n",
       "      <td>False</td>\n",
       "      <td>False</td>\n",
       "      <td>False</td>\n",
       "      <td>False</td>\n",
       "      <td>False</td>\n",
       "      <td>False</td>\n",
       "      <td>False</td>\n",
       "      <td>False</td>\n",
       "      <td>False</td>\n",
       "      <td>True</td>\n",
       "      <td>False</td>\n",
       "    </tr>\n",
       "    <tr>\n",
       "      <th>403</th>\n",
       "      <td>False</td>\n",
       "      <td>False</td>\n",
       "      <td>False</td>\n",
       "      <td>False</td>\n",
       "      <td>False</td>\n",
       "      <td>False</td>\n",
       "      <td>False</td>\n",
       "      <td>False</td>\n",
       "      <td>False</td>\n",
       "      <td>True</td>\n",
       "      <td>False</td>\n",
       "    </tr>\n",
       "    <tr>\n",
       "      <th>404</th>\n",
       "      <td>False</td>\n",
       "      <td>False</td>\n",
       "      <td>False</td>\n",
       "      <td>False</td>\n",
       "      <td>False</td>\n",
       "      <td>False</td>\n",
       "      <td>False</td>\n",
       "      <td>False</td>\n",
       "      <td>False</td>\n",
       "      <td>False</td>\n",
       "      <td>True</td>\n",
       "    </tr>\n",
       "  </tbody>\n",
       "</table>\n",
       "<p>405 rows × 11 columns</p>\n",
       "</div>"
      ],
      "text/plain": [
       "        ID   Name  Gender  Present Address  Using transportation  \\\n",
       "0    False  False   False            False                 False   \n",
       "1    False  False   False            False                 False   \n",
       "2    False  False   False            False                 False   \n",
       "3    False  False   False            False                 False   \n",
       "4    False  False   False            False                 False   \n",
       "..     ...    ...     ...              ...                   ...   \n",
       "400  False  False   False            False                 False   \n",
       "401  False  False   False            False                 False   \n",
       "402  False  False   False            False                 False   \n",
       "403  False  False   False            False                 False   \n",
       "404  False  False   False            False                 False   \n",
       "\n",
       "     Apply for another varsity  Suppose admission  Waiver  KNPwCIfIbDA  \\\n",
       "0                        False              False   False        False   \n",
       "1                        False              False   False        False   \n",
       "2                        False              False   False        False   \n",
       "3                        False              False   False        False   \n",
       "4                        False              False   False        False   \n",
       "..                         ...                ...     ...          ...   \n",
       "400                      False              False   False        False   \n",
       "401                      False              False   False        False   \n",
       "402                      False              False   False        False   \n",
       "403                      False              False   False        False   \n",
       "404                      False              False   False        False   \n",
       "\n",
       "     If any, give reason  IUBAT Choosing Reason  \n",
       "0                   True                  False  \n",
       "1                   True                  False  \n",
       "2                  False                  False  \n",
       "3                   True                   True  \n",
       "4                   True                  False  \n",
       "..                   ...                    ...  \n",
       "400                False                   True  \n",
       "401                 True                   True  \n",
       "402                 True                  False  \n",
       "403                 True                  False  \n",
       "404                False                   True  \n",
       "\n",
       "[405 rows x 11 columns]"
      ]
     },
     "execution_count": 20,
     "metadata": {},
     "output_type": "execute_result"
    }
   ],
   "source": [
    "data.isnull()"
   ]
  },
  {
   "cell_type": "code",
   "execution_count": 24,
   "metadata": {},
   "outputs": [
    {
     "data": {
      "text/plain": [
       "(array([153.,   0.,   0.,   0.,   0.,   0.,   0.,   0.,   0., 252.]),\n",
       " array([0. , 0.1, 0.2, 0.3, 0.4, 0.5, 0.6, 0.7, 0.8, 0.9, 1. ]),\n",
       " <BarContainer object of 10 artists>)"
      ]
     },
     "execution_count": 24,
     "metadata": {},
     "output_type": "execute_result"
    },
    {
     "data": {
      "image/png": "[encoded data removed]",
      "text/plain": [
       "<Figure size 640x480 with 1 Axes>"
      ]
     },
     "metadata": {},
     "output_type": "display_data"
    }
   ],
   "source": [
    "# plotting y value\n",
    "plt.hist(data['Suppose admission'])"
   ]
  },
  {
   "cell_type": "code",
   "execution_count": 23,
   "metadata": {},
   "outputs": [],
   "source": [
    "import matplotlib.pyplot as plt"
   ]
  },
  {
   "cell_type": "code",
   "execution_count": 27,
   "metadata": {},
   "outputs": [],
   "source": [
    "def bar_chart(feature):\n",
    "    admitted=data[data['Suppose admission']==1][feature].value_counts()\n",
    "    not_admitted=data[data['Suppose admission']==0][feature].value_counts()\n",
    "    df=pd.DataFrame([admitted,not_admitted])\n",
    "    df.index=['admitted','not_admitted']\n",
    "    df.plot(kind='bar',stacked=True,figsize=(10,5))"
   ]
  },
  {
   "cell_type": "code",
   "execution_count": 28,
   "metadata": {},
   "outputs": [
    {
     "data": {
      "image/png": "[encoded data removed]",
      "text/plain": [
       "<Figure size 1000x500 with 1 Axes>"
      ]
     },
     "metadata": {},
     "output_type": "display_data"
    }
   ],
   "source": [
    "bar_chart('Gender')"
   ]
  },
  {
   "cell_type": "code",
   "execution_count": 29,
   "metadata": {},
   "outputs": [],
   "source": [
    "def bar_chart(feature):\n",
    "    admitted=data[data['Suppose admission']==1][feature].value_counts()\n",
    "    not_admitted=data[data['Suppose admission']==0][feature].value_counts()\n",
    "    df=pd.DataFrame([admitted,not_admitted])\n",
    "    df.index=['admitted','not_admitted']\n",
    "    df.plot(kind='bar',figsize=(10,5))"
   ]
  },
  {
   "cell_type": "code",
   "execution_count": 30,
   "metadata": {},
   "outputs": [
    {
     "data": {
      "image/png": "[encoded data removed]",
      "text/plain": [
       "<Figure size 1000x500 with 1 Axes>"
      ]
     },
     "metadata": {},
     "output_type": "display_data"
    }
   ],
   "source": [
    "bar_chart('Gender')"
   ]
  },
  {
   "cell_type": "code",
   "execution_count": 31,
   "metadata": {},
   "outputs": [],
   "source": [
    "def bar_chart(feature):\n",
    "    admitted=data[data['Suppose admission']==1][feature].value_counts()\n",
    "    not_admitted=data[data['Suppose admission']==0][feature].value_counts()\n",
    "    df=pd.DataFrame([admitted,not_admitted])\n",
    "    df.index=['admitted','not_admitted']\n",
    "    df.plot(kind='bar',figsize=(7,3))"
   ]
  },
  {
   "cell_type": "code",
   "execution_count": 32,
   "metadata": {},
   "outputs": [
    {
     "data": {
      "image/png": "[encoded data removed]",
      "text/plain": [
       "<Figure size 700x300 with 1 Axes>"
      ]
     },
     "metadata": {},
     "output_type": "display_data"
    }
   ],
   "source": [
    "bar_chart('Gender')"
   ]
  },
  {
   "cell_type": "code",
   "execution_count": 33,
   "metadata": {},
   "outputs": [],
   "source": [
    "def bar_chart(feature):\n",
    "    admitted=data[data['Suppose admission']==1][feature].value_counts()\n",
    "    not_admitted=data[data['Suppose admission']==0][feature].value_counts()\n",
    "    df=pd.DataFrame([admitted,not_admitted])\n",
    "    df.index=['admitted','not_admitted']\n",
    "    df.plot(kind='bar',stacked=True,figsize=(7,3))"
   ]
  },
  {
   "cell_type": "code",
   "execution_count": 34,
   "metadata": {},
   "outputs": [
    {
     "data": {
      "image/png": "[encoded data removed]",
      "text/plain": [
       "<Figure size 700x300 with 1 Axes>"
      ]
     },
     "metadata": {},
     "output_type": "display_data"
    }
   ],
   "source": [
    "bar_chart('Gender')"
   ]
  },
  {
   "cell_type": "code",
   "execution_count": 35,
   "metadata": {},
   "outputs": [],
   "source": [
    "data['Gender'].replace('male','Male',inplace=True)"
   ]
  },
  {
   "cell_type": "code",
   "execution_count": 36,
   "metadata": {},
   "outputs": [
    {
     "name": "stderr",
     "output_type": "stream",
     "text": [
      "C:\\Users\\Minhazul Alam\\AppData\\Local\\Temp\\ipykernel_12628\\3390917704.py:1: FutureWarning: pandas.value_counts is deprecated and will be removed in a future version. Use pd.Series(obj).value_counts() instead.\n",
      "  pd.value_counts(data['Gender'])\n"
     ]
    },
    {
     "data": {
      "text/plain": [
       "Gender\n",
       "Male      240\n",
       "Female    165\n",
       "Name: count, dtype: int64"
      ]
     },
     "execution_count": 36,
     "metadata": {},
     "output_type": "execute_result"
    }
   ],
   "source": [
    "pd.value_counts(data['Gender'])"
   ]
  },
  {
   "cell_type": "code",
   "execution_count": 39,
   "metadata": {},
   "outputs": [
    {
     "name": "stderr",
     "output_type": "stream",
     "text": [
      "C:\\Users\\Minhazul Alam\\AppData\\Local\\Temp\\ipykernel_12628\\3390917704.py:1: FutureWarning: pandas.value_counts is deprecated and will be removed in a future version. Use pd.Series(obj).value_counts() instead.\n",
      "  pd.value_counts(data['Gender'])\n"
     ]
    },
    {
     "data": {
      "text/plain": [
       "Gender\n",
       "Male      240\n",
       "Female    165\n",
       "Name: count, dtype: int64"
      ]
     },
     "execution_count": 39,
     "metadata": {},
     "output_type": "execute_result"
    }
   ],
   "source": [
    "pd.value_counts(data['Gender'])"
   ]
  },
  {
   "cell_type": "code",
   "execution_count": 40,
   "metadata": {},
   "outputs": [
    {
     "data": {
      "image/png": "[encoded data removed]",
      "text/plain": [
       "<Figure size 700x300 with 1 Axes>"
      ]
     },
     "metadata": {},
     "output_type": "display_data"
    }
   ],
   "source": [
    "bar_chart('Gender')"
   ]
  },
  {
   "cell_type": "code",
   "execution_count": 41,
   "metadata": {},
   "outputs": [
    {
     "name": "stderr",
     "output_type": "stream",
     "text": [
      "C:\\Users\\Minhazul Alam\\AppData\\Local\\Temp\\ipykernel_12628\\1745199582.py:1: FutureWarning: pandas.value_counts is deprecated and will be removed in a future version. Use pd.Series(obj).value_counts() instead.\n",
      "  pd.value_counts(data['Present Address'])\n"
     ]
    },
    {
     "data": {
      "text/plain": [
       "Present Address\n",
       "Uttara, Dhaka                125\n",
       "Gazipur                       59\n",
       "Narayanganj                   42\n",
       "Savar, Dhaka                  21\n",
       "Gazipur                       17\n",
       "Dakkhinkhan, Dhaka            17\n",
       "Cantonment, Dhaka             16\n",
       "Dhanmondi 27, Dhaka           15\n",
       "Shabag, Dhaka                 15\n",
       "Mirpur-14, Dhaka              15\n",
       "Gazipur                       14\n",
       "Mirpur, Dhaka                  8\n",
       "Uttarkhan, Dhaka               8\n",
       "Naraynganj                     7\n",
       "Bosundhara, Dhaka              5\n",
       "Airport,  Dhaka                5\n",
       "Kawla, Uttara, Dhaka           3\n",
       "Turag, Dhaka                   2\n",
       "Mirpur-2, Dhaka                2\n",
       "Kuril,Dhaka                    1\n",
       "Mirpur-13, Dhaka               1\n",
       "Dhaka                          1\n",
       "Gulistan, Dhaka                1\n",
       "Khilkhet, Dhaka                1\n",
       "Bangshal, Dhaka                1\n",
       "Uttar Khan, Dhaka              1\n",
       "Sector-10 , uttara, Dhaka      1\n",
       "Tongi, Gazipur                 1\n",
       "Name: count, dtype: int64"
      ]
     },
     "execution_count": 41,
     "metadata": {},
     "output_type": "execute_result"
    }
   ],
   "source": [
    "pd.value_counts(data['Present Address'])"
   ]
  },
  {
   "cell_type": "code",
   "execution_count": 42,
   "metadata": {},
   "outputs": [
    {
     "name": "stderr",
     "output_type": "stream",
     "text": [
      "C:\\Users\\Minhazul Alam\\AppData\\Local\\Temp\\ipykernel_12628\\3321697218.py:1: FutureWarning: pandas.value_counts is deprecated and will be removed in a future version. Use pd.Series(obj).value_counts() instead.\n",
      "  pd.value_counts(data['Waiver'])\n"
     ]
    },
    {
     "data": {
      "text/plain": [
       "Waiver\n",
       "100    78\n",
       "15     58\n",
       "10     43\n",
       "30     35\n",
       "20     35\n",
       "40     34\n",
       "0      27\n",
       "50     26\n",
       "25     21\n",
       "35     12\n",
       "60     11\n",
       "65      9\n",
       "45      5\n",
       "70      4\n",
       "80      4\n",
       "1       1\n",
       "75      1\n",
       "55      1\n",
       "Name: count, dtype: int64"
      ]
     },
     "execution_count": 42,
     "metadata": {},
     "output_type": "execute_result"
    }
   ],
   "source": [
    "pd.value_counts(data['Waiver'])"
   ]
  },
  {
   "cell_type": "code",
   "execution_count": null,
   "metadata": {},
   "outputs": [],
   "source": []
  }
 ],
 "metadata": {
  "kernelspec": {
   "display_name": "Python 3",
   "language": "python",
   "name": "python3"
  },
  "language_info": {
   "codemirror_mode": {
    "name": "ipython",
    "version": 3
   },
   "file_extension": ".py",
   "mimetype": "text/x-python",
   "name": "python",
   "nbconvert_exporter": "python",
   "pygments_lexer": "ipython3",
   "version": "3.12.4"
  }
 },
 "nbformat": 4,
 "nbformat_minor": 2
}
