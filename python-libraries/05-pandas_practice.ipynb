{
 "cells": [
  {
   "cell_type": "code",
   "execution_count": 2,
   "metadata": {},
   "outputs": [],
   "source": [
    "import pandas as pd\n"
   ]
  },
  {
   "cell_type": "code",
   "execution_count": 3,
   "metadata": {},
   "outputs": [],
   "source": [
    "import numpy as np"
   ]
  },
  {
   "cell_type": "code",
   "execution_count": 126,
   "metadata": {},
   "outputs": [],
   "source": [
    "import matplotlib.pyplot as plt"
   ]
  },
  {
   "cell_type": "code",
   "execution_count": 4,
   "metadata": {},
   "outputs": [],
   "source": [
    "# Creating Pandas series\n",
    "\n",
    "array=[1,2,3,4]\n",
    "x=pd.Series(array)"
   ]
  },
  {
   "cell_type": "code",
   "execution_count": 5,
   "metadata": {},
   "outputs": [
    {
     "data": {
      "text/plain": [
       "0    1\n",
       "1    2\n",
       "2    3\n",
       "3    4\n",
       "dtype: int64"
      ]
     },
     "execution_count": 5,
     "metadata": {},
     "output_type": "execute_result"
    }
   ],
   "source": [
    "x"
   ]
  },
  {
   "cell_type": "code",
   "execution_count": 6,
   "metadata": {},
   "outputs": [],
   "source": [
    "# Dictionary into pandas\n",
    "\n",
    "dict={'a':2,'b':7,'c':90}\n",
    "y=pd.Series(dict)\n"
   ]
  },
  {
   "cell_type": "code",
   "execution_count": 7,
   "metadata": {},
   "outputs": [
    {
     "data": {
      "text/plain": [
       "a     2\n",
       "b     7\n",
       "c    90\n",
       "dtype: int64"
      ]
     },
     "execution_count": 7,
     "metadata": {},
     "output_type": "execute_result"
    }
   ],
   "source": [
    "y"
   ]
  },
  {
   "cell_type": "code",
   "execution_count": 8,
   "metadata": {},
   "outputs": [],
   "source": [
    "# Creating dataFrame\n",
    "\n",
    "data={'Name':['Asad','Konchi','Laili','Fuda','Chikni','Valluk','Saddam Shot','Tugitt'],\n",
    "      'Gender':['Male','Male','Female','Male','Female','Male','Male','Male'],\n",
    "      'Age':[27,26,39,25,30,27,90,35],\n",
    "      'Hobby':['Pinik','Pinik','Drug Dealer','Bitik','Past Crush','Bitik','Fucking Slut','Fucking Boudi']\n",
    "      \n",
    "      }"
   ]
  },
  {
   "cell_type": "code",
   "execution_count": 9,
   "metadata": {},
   "outputs": [
    {
     "data": {
      "text/plain": [
       "{'Name': ['Asad',\n",
       "  'Konchi',\n",
       "  'Laili',\n",
       "  'Fuda',\n",
       "  'Chikni',\n",
       "  'Valluk',\n",
       "  'Saddam Shot',\n",
       "  'Tugitt'],\n",
       " 'Gender': ['Male',\n",
       "  'Male',\n",
       "  'Female',\n",
       "  'Male',\n",
       "  'Female',\n",
       "  'Male',\n",
       "  'Male',\n",
       "  'Male'],\n",
       " 'Age': [27, 26, 39, 25, 30, 27, 90, 35],\n",
       " 'Hobby': ['Pinik',\n",
       "  'Pinik',\n",
       "  'Drug Dealer',\n",
       "  'Bitik',\n",
       "  'Past Crush',\n",
       "  'Bitik',\n",
       "  'Fucking Slut',\n",
       "  'Fucking Boudi']}"
      ]
     },
     "execution_count": 9,
     "metadata": {},
     "output_type": "execute_result"
    }
   ],
   "source": [
    "data"
   ]
  },
  {
   "cell_type": "code",
   "execution_count": 10,
   "metadata": {},
   "outputs": [],
   "source": [
    "df=pd.DataFrame(data)"
   ]
  },
  {
   "cell_type": "code",
   "execution_count": 11,
   "metadata": {},
   "outputs": [
    {
     "data": {
      "text/html": [
       "<div>\n",
       "<style scoped>\n",
       "    .dataframe tbody tr th:only-of-type {\n",
       "        vertical-align: middle;\n",
       "    }\n",
       "\n",
       "    .dataframe tbody tr th {\n",
       "        vertical-align: top;\n",
       "    }\n",
       "\n",
       "    .dataframe thead th {\n",
       "        text-align: right;\n",
       "    }\n",
       "</style>\n",
       "<table border=\"1\" class=\"dataframe\">\n",
       "  <thead>\n",
       "    <tr style=\"text-align: right;\">\n",
       "      <th></th>\n",
       "      <th>Name</th>\n",
       "      <th>Gender</th>\n",
       "      <th>Age</th>\n",
       "      <th>Hobby</th>\n",
       "    </tr>\n",
       "  </thead>\n",
       "  <tbody>\n",
       "    <tr>\n",
       "      <th>0</th>\n",
       "      <td>Asad</td>\n",
       "      <td>Male</td>\n",
       "      <td>27</td>\n",
       "      <td>Pinik</td>\n",
       "    </tr>\n",
       "    <tr>\n",
       "      <th>1</th>\n",
       "      <td>Konchi</td>\n",
       "      <td>Male</td>\n",
       "      <td>26</td>\n",
       "      <td>Pinik</td>\n",
       "    </tr>\n",
       "    <tr>\n",
       "      <th>2</th>\n",
       "      <td>Laili</td>\n",
       "      <td>Female</td>\n",
       "      <td>39</td>\n",
       "      <td>Drug Dealer</td>\n",
       "    </tr>\n",
       "    <tr>\n",
       "      <th>3</th>\n",
       "      <td>Fuda</td>\n",
       "      <td>Male</td>\n",
       "      <td>25</td>\n",
       "      <td>Bitik</td>\n",
       "    </tr>\n",
       "    <tr>\n",
       "      <th>4</th>\n",
       "      <td>Chikni</td>\n",
       "      <td>Female</td>\n",
       "      <td>30</td>\n",
       "      <td>Past Crush</td>\n",
       "    </tr>\n",
       "    <tr>\n",
       "      <th>5</th>\n",
       "      <td>Valluk</td>\n",
       "      <td>Male</td>\n",
       "      <td>27</td>\n",
       "      <td>Bitik</td>\n",
       "    </tr>\n",
       "    <tr>\n",
       "      <th>6</th>\n",
       "      <td>Saddam Shot</td>\n",
       "      <td>Male</td>\n",
       "      <td>90</td>\n",
       "      <td>Fucking Slut</td>\n",
       "    </tr>\n",
       "    <tr>\n",
       "      <th>7</th>\n",
       "      <td>Tugitt</td>\n",
       "      <td>Male</td>\n",
       "      <td>35</td>\n",
       "      <td>Fucking Boudi</td>\n",
       "    </tr>\n",
       "  </tbody>\n",
       "</table>\n",
       "</div>"
      ],
      "text/plain": [
       "          Name  Gender  Age          Hobby\n",
       "0         Asad    Male   27          Pinik\n",
       "1       Konchi    Male   26          Pinik\n",
       "2        Laili  Female   39    Drug Dealer\n",
       "3         Fuda    Male   25          Bitik\n",
       "4       Chikni  Female   30     Past Crush\n",
       "5       Valluk    Male   27          Bitik\n",
       "6  Saddam Shot    Male   90   Fucking Slut\n",
       "7       Tugitt    Male   35  Fucking Boudi"
      ]
     },
     "execution_count": 11,
     "metadata": {},
     "output_type": "execute_result"
    }
   ],
   "source": [
    "df"
   ]
  },
  {
   "cell_type": "code",
   "execution_count": 12,
   "metadata": {},
   "outputs": [
    {
     "data": {
      "text/html": [
       "<div>\n",
       "<style scoped>\n",
       "    .dataframe tbody tr th:only-of-type {\n",
       "        vertical-align: middle;\n",
       "    }\n",
       "\n",
       "    .dataframe tbody tr th {\n",
       "        vertical-align: top;\n",
       "    }\n",
       "\n",
       "    .dataframe thead th {\n",
       "        text-align: right;\n",
       "    }\n",
       "</style>\n",
       "<table border=\"1\" class=\"dataframe\">\n",
       "  <thead>\n",
       "    <tr style=\"text-align: right;\">\n",
       "      <th></th>\n",
       "      <th>Name</th>\n",
       "      <th>Gender</th>\n",
       "      <th>Age</th>\n",
       "      <th>Hobby</th>\n",
       "    </tr>\n",
       "  </thead>\n",
       "  <tbody>\n",
       "    <tr>\n",
       "      <th>0</th>\n",
       "      <td>False</td>\n",
       "      <td>False</td>\n",
       "      <td>False</td>\n",
       "      <td>False</td>\n",
       "    </tr>\n",
       "    <tr>\n",
       "      <th>1</th>\n",
       "      <td>False</td>\n",
       "      <td>False</td>\n",
       "      <td>False</td>\n",
       "      <td>False</td>\n",
       "    </tr>\n",
       "    <tr>\n",
       "      <th>2</th>\n",
       "      <td>False</td>\n",
       "      <td>False</td>\n",
       "      <td>False</td>\n",
       "      <td>False</td>\n",
       "    </tr>\n",
       "    <tr>\n",
       "      <th>3</th>\n",
       "      <td>False</td>\n",
       "      <td>False</td>\n",
       "      <td>False</td>\n",
       "      <td>False</td>\n",
       "    </tr>\n",
       "    <tr>\n",
       "      <th>4</th>\n",
       "      <td>False</td>\n",
       "      <td>False</td>\n",
       "      <td>False</td>\n",
       "      <td>False</td>\n",
       "    </tr>\n",
       "    <tr>\n",
       "      <th>5</th>\n",
       "      <td>False</td>\n",
       "      <td>False</td>\n",
       "      <td>False</td>\n",
       "      <td>False</td>\n",
       "    </tr>\n",
       "    <tr>\n",
       "      <th>6</th>\n",
       "      <td>False</td>\n",
       "      <td>False</td>\n",
       "      <td>False</td>\n",
       "      <td>False</td>\n",
       "    </tr>\n",
       "    <tr>\n",
       "      <th>7</th>\n",
       "      <td>False</td>\n",
       "      <td>False</td>\n",
       "      <td>False</td>\n",
       "      <td>False</td>\n",
       "    </tr>\n",
       "  </tbody>\n",
       "</table>\n",
       "</div>"
      ],
      "text/plain": [
       "    Name  Gender    Age  Hobby\n",
       "0  False   False  False  False\n",
       "1  False   False  False  False\n",
       "2  False   False  False  False\n",
       "3  False   False  False  False\n",
       "4  False   False  False  False\n",
       "5  False   False  False  False\n",
       "6  False   False  False  False\n",
       "7  False   False  False  False"
      ]
     },
     "execution_count": 12,
     "metadata": {},
     "output_type": "execute_result"
    }
   ],
   "source": [
    "df.isnull()"
   ]
  },
  {
   "cell_type": "code",
   "execution_count": 13,
   "metadata": {},
   "outputs": [
    {
     "data": {
      "text/plain": [
       "np.float64(37.375)"
      ]
     },
     "execution_count": 13,
     "metadata": {},
     "output_type": "execute_result"
    }
   ],
   "source": [
    "df['Age'].mean()"
   ]
  },
  {
   "cell_type": "code",
   "execution_count": 14,
   "metadata": {},
   "outputs": [
    {
     "data": {
      "text/plain": [
       "np.int64(25)"
      ]
     },
     "execution_count": 14,
     "metadata": {},
     "output_type": "execute_result"
    }
   ],
   "source": [
    "df['Age'].min()"
   ]
  },
  {
   "cell_type": "code",
   "execution_count": 15,
   "metadata": {},
   "outputs": [
    {
     "data": {
      "text/plain": [
       "np.int64(90)"
      ]
     },
     "execution_count": 15,
     "metadata": {},
     "output_type": "execute_result"
    }
   ],
   "source": [
    "df['Age'].max()"
   ]
  },
  {
   "cell_type": "code",
   "execution_count": 16,
   "metadata": {},
   "outputs": [
    {
     "data": {
      "text/plain": [
       "0    False\n",
       "1    False\n",
       "2     True\n",
       "3    False\n",
       "4     True\n",
       "5    False\n",
       "6     True\n",
       "7     True\n",
       "Name: Age, dtype: bool"
      ]
     },
     "execution_count": 16,
     "metadata": {},
     "output_type": "execute_result"
    }
   ],
   "source": [
    "df['Age']>=30"
   ]
  },
  {
   "cell_type": "code",
   "execution_count": 17,
   "metadata": {},
   "outputs": [],
   "source": [
    "df['Cum_Age']=df['Age']"
   ]
  },
  {
   "cell_type": "code",
   "execution_count": 18,
   "metadata": {},
   "outputs": [
    {
     "data": {
      "text/html": [
       "<div>\n",
       "<style scoped>\n",
       "    .dataframe tbody tr th:only-of-type {\n",
       "        vertical-align: middle;\n",
       "    }\n",
       "\n",
       "    .dataframe tbody tr th {\n",
       "        vertical-align: top;\n",
       "    }\n",
       "\n",
       "    .dataframe thead th {\n",
       "        text-align: right;\n",
       "    }\n",
       "</style>\n",
       "<table border=\"1\" class=\"dataframe\">\n",
       "  <thead>\n",
       "    <tr style=\"text-align: right;\">\n",
       "      <th></th>\n",
       "      <th>Name</th>\n",
       "      <th>Gender</th>\n",
       "      <th>Age</th>\n",
       "      <th>Hobby</th>\n",
       "      <th>Cum_Age</th>\n",
       "    </tr>\n",
       "  </thead>\n",
       "  <tbody>\n",
       "    <tr>\n",
       "      <th>0</th>\n",
       "      <td>Asad</td>\n",
       "      <td>Male</td>\n",
       "      <td>27</td>\n",
       "      <td>Pinik</td>\n",
       "      <td>27</td>\n",
       "    </tr>\n",
       "    <tr>\n",
       "      <th>1</th>\n",
       "      <td>Konchi</td>\n",
       "      <td>Male</td>\n",
       "      <td>26</td>\n",
       "      <td>Pinik</td>\n",
       "      <td>26</td>\n",
       "    </tr>\n",
       "    <tr>\n",
       "      <th>2</th>\n",
       "      <td>Laili</td>\n",
       "      <td>Female</td>\n",
       "      <td>39</td>\n",
       "      <td>Drug Dealer</td>\n",
       "      <td>39</td>\n",
       "    </tr>\n",
       "    <tr>\n",
       "      <th>3</th>\n",
       "      <td>Fuda</td>\n",
       "      <td>Male</td>\n",
       "      <td>25</td>\n",
       "      <td>Bitik</td>\n",
       "      <td>25</td>\n",
       "    </tr>\n",
       "    <tr>\n",
       "      <th>4</th>\n",
       "      <td>Chikni</td>\n",
       "      <td>Female</td>\n",
       "      <td>30</td>\n",
       "      <td>Past Crush</td>\n",
       "      <td>30</td>\n",
       "    </tr>\n",
       "    <tr>\n",
       "      <th>5</th>\n",
       "      <td>Valluk</td>\n",
       "      <td>Male</td>\n",
       "      <td>27</td>\n",
       "      <td>Bitik</td>\n",
       "      <td>27</td>\n",
       "    </tr>\n",
       "    <tr>\n",
       "      <th>6</th>\n",
       "      <td>Saddam Shot</td>\n",
       "      <td>Male</td>\n",
       "      <td>90</td>\n",
       "      <td>Fucking Slut</td>\n",
       "      <td>90</td>\n",
       "    </tr>\n",
       "    <tr>\n",
       "      <th>7</th>\n",
       "      <td>Tugitt</td>\n",
       "      <td>Male</td>\n",
       "      <td>35</td>\n",
       "      <td>Fucking Boudi</td>\n",
       "      <td>35</td>\n",
       "    </tr>\n",
       "  </tbody>\n",
       "</table>\n",
       "</div>"
      ],
      "text/plain": [
       "          Name  Gender  Age          Hobby  Cum_Age\n",
       "0         Asad    Male   27          Pinik       27\n",
       "1       Konchi    Male   26          Pinik       26\n",
       "2        Laili  Female   39    Drug Dealer       39\n",
       "3         Fuda    Male   25          Bitik       25\n",
       "4       Chikni  Female   30     Past Crush       30\n",
       "5       Valluk    Male   27          Bitik       27\n",
       "6  Saddam Shot    Male   90   Fucking Slut       90\n",
       "7       Tugitt    Male   35  Fucking Boudi       35"
      ]
     },
     "execution_count": 18,
     "metadata": {},
     "output_type": "execute_result"
    }
   ],
   "source": [
    "df"
   ]
  },
  {
   "cell_type": "code",
   "execution_count": 19,
   "metadata": {},
   "outputs": [],
   "source": [
    "df['Cum_Age']=df['Age'].cumsum()"
   ]
  },
  {
   "cell_type": "code",
   "execution_count": 20,
   "metadata": {},
   "outputs": [
    {
     "data": {
      "text/html": [
       "<div>\n",
       "<style scoped>\n",
       "    .dataframe tbody tr th:only-of-type {\n",
       "        vertical-align: middle;\n",
       "    }\n",
       "\n",
       "    .dataframe tbody tr th {\n",
       "        vertical-align: top;\n",
       "    }\n",
       "\n",
       "    .dataframe thead th {\n",
       "        text-align: right;\n",
       "    }\n",
       "</style>\n",
       "<table border=\"1\" class=\"dataframe\">\n",
       "  <thead>\n",
       "    <tr style=\"text-align: right;\">\n",
       "      <th></th>\n",
       "      <th>Name</th>\n",
       "      <th>Gender</th>\n",
       "      <th>Age</th>\n",
       "      <th>Hobby</th>\n",
       "      <th>Cum_Age</th>\n",
       "    </tr>\n",
       "  </thead>\n",
       "  <tbody>\n",
       "    <tr>\n",
       "      <th>0</th>\n",
       "      <td>Asad</td>\n",
       "      <td>Male</td>\n",
       "      <td>27</td>\n",
       "      <td>Pinik</td>\n",
       "      <td>27</td>\n",
       "    </tr>\n",
       "    <tr>\n",
       "      <th>1</th>\n",
       "      <td>Konchi</td>\n",
       "      <td>Male</td>\n",
       "      <td>26</td>\n",
       "      <td>Pinik</td>\n",
       "      <td>53</td>\n",
       "    </tr>\n",
       "    <tr>\n",
       "      <th>2</th>\n",
       "      <td>Laili</td>\n",
       "      <td>Female</td>\n",
       "      <td>39</td>\n",
       "      <td>Drug Dealer</td>\n",
       "      <td>92</td>\n",
       "    </tr>\n",
       "    <tr>\n",
       "      <th>3</th>\n",
       "      <td>Fuda</td>\n",
       "      <td>Male</td>\n",
       "      <td>25</td>\n",
       "      <td>Bitik</td>\n",
       "      <td>117</td>\n",
       "    </tr>\n",
       "    <tr>\n",
       "      <th>4</th>\n",
       "      <td>Chikni</td>\n",
       "      <td>Female</td>\n",
       "      <td>30</td>\n",
       "      <td>Past Crush</td>\n",
       "      <td>147</td>\n",
       "    </tr>\n",
       "    <tr>\n",
       "      <th>5</th>\n",
       "      <td>Valluk</td>\n",
       "      <td>Male</td>\n",
       "      <td>27</td>\n",
       "      <td>Bitik</td>\n",
       "      <td>174</td>\n",
       "    </tr>\n",
       "    <tr>\n",
       "      <th>6</th>\n",
       "      <td>Saddam Shot</td>\n",
       "      <td>Male</td>\n",
       "      <td>90</td>\n",
       "      <td>Fucking Slut</td>\n",
       "      <td>264</td>\n",
       "    </tr>\n",
       "    <tr>\n",
       "      <th>7</th>\n",
       "      <td>Tugitt</td>\n",
       "      <td>Male</td>\n",
       "      <td>35</td>\n",
       "      <td>Fucking Boudi</td>\n",
       "      <td>299</td>\n",
       "    </tr>\n",
       "  </tbody>\n",
       "</table>\n",
       "</div>"
      ],
      "text/plain": [
       "          Name  Gender  Age          Hobby  Cum_Age\n",
       "0         Asad    Male   27          Pinik       27\n",
       "1       Konchi    Male   26          Pinik       53\n",
       "2        Laili  Female   39    Drug Dealer       92\n",
       "3         Fuda    Male   25          Bitik      117\n",
       "4       Chikni  Female   30     Past Crush      147\n",
       "5       Valluk    Male   27          Bitik      174\n",
       "6  Saddam Shot    Male   90   Fucking Slut      264\n",
       "7       Tugitt    Male   35  Fucking Boudi      299"
      ]
     },
     "execution_count": 20,
     "metadata": {},
     "output_type": "execute_result"
    }
   ],
   "source": [
    "df"
   ]
  },
  {
   "cell_type": "code",
   "execution_count": 21,
   "metadata": {},
   "outputs": [
    {
     "data": {
      "text/html": [
       "<div>\n",
       "<style scoped>\n",
       "    .dataframe tbody tr th:only-of-type {\n",
       "        vertical-align: middle;\n",
       "    }\n",
       "\n",
       "    .dataframe tbody tr th {\n",
       "        vertical-align: top;\n",
       "    }\n",
       "\n",
       "    .dataframe thead th {\n",
       "        text-align: right;\n",
       "    }\n",
       "</style>\n",
       "<table border=\"1\" class=\"dataframe\">\n",
       "  <thead>\n",
       "    <tr style=\"text-align: right;\">\n",
       "      <th></th>\n",
       "      <th>Name</th>\n",
       "      <th>Gender</th>\n",
       "      <th>Age</th>\n",
       "      <th>Hobby</th>\n",
       "      <th>Cum_Age</th>\n",
       "    </tr>\n",
       "  </thead>\n",
       "  <tbody>\n",
       "    <tr>\n",
       "      <th>0</th>\n",
       "      <td>Asad</td>\n",
       "      <td>Male</td>\n",
       "      <td>27</td>\n",
       "      <td>Pinik</td>\n",
       "      <td>27</td>\n",
       "    </tr>\n",
       "    <tr>\n",
       "      <th>1</th>\n",
       "      <td>Konchi</td>\n",
       "      <td>Male</td>\n",
       "      <td>26</td>\n",
       "      <td>Pinik</td>\n",
       "      <td>53</td>\n",
       "    </tr>\n",
       "  </tbody>\n",
       "</table>\n",
       "</div>"
      ],
      "text/plain": [
       "     Name Gender  Age  Hobby  Cum_Age\n",
       "0    Asad   Male   27  Pinik       27\n",
       "1  Konchi   Male   26  Pinik       53"
      ]
     },
     "execution_count": 21,
     "metadata": {},
     "output_type": "execute_result"
    }
   ],
   "source": [
    "df.head(2)"
   ]
  },
  {
   "cell_type": "code",
   "execution_count": 22,
   "metadata": {},
   "outputs": [
    {
     "data": {
      "text/html": [
       "<div>\n",
       "<style scoped>\n",
       "    .dataframe tbody tr th:only-of-type {\n",
       "        vertical-align: middle;\n",
       "    }\n",
       "\n",
       "    .dataframe tbody tr th {\n",
       "        vertical-align: top;\n",
       "    }\n",
       "\n",
       "    .dataframe thead th {\n",
       "        text-align: right;\n",
       "    }\n",
       "</style>\n",
       "<table border=\"1\" class=\"dataframe\">\n",
       "  <thead>\n",
       "    <tr style=\"text-align: right;\">\n",
       "      <th></th>\n",
       "      <th>Name</th>\n",
       "      <th>Gender</th>\n",
       "      <th>Age</th>\n",
       "      <th>Hobby</th>\n",
       "      <th>Cum_Age</th>\n",
       "    </tr>\n",
       "  </thead>\n",
       "  <tbody>\n",
       "    <tr>\n",
       "      <th>5</th>\n",
       "      <td>Valluk</td>\n",
       "      <td>Male</td>\n",
       "      <td>27</td>\n",
       "      <td>Bitik</td>\n",
       "      <td>174</td>\n",
       "    </tr>\n",
       "    <tr>\n",
       "      <th>6</th>\n",
       "      <td>Saddam Shot</td>\n",
       "      <td>Male</td>\n",
       "      <td>90</td>\n",
       "      <td>Fucking Slut</td>\n",
       "      <td>264</td>\n",
       "    </tr>\n",
       "    <tr>\n",
       "      <th>7</th>\n",
       "      <td>Tugitt</td>\n",
       "      <td>Male</td>\n",
       "      <td>35</td>\n",
       "      <td>Fucking Boudi</td>\n",
       "      <td>299</td>\n",
       "    </tr>\n",
       "  </tbody>\n",
       "</table>\n",
       "</div>"
      ],
      "text/plain": [
       "          Name Gender  Age          Hobby  Cum_Age\n",
       "5       Valluk   Male   27          Bitik      174\n",
       "6  Saddam Shot   Male   90   Fucking Slut      264\n",
       "7       Tugitt   Male   35  Fucking Boudi      299"
      ]
     },
     "execution_count": 22,
     "metadata": {},
     "output_type": "execute_result"
    }
   ],
   "source": [
    "df.tail(3)"
   ]
  },
  {
   "cell_type": "code",
   "execution_count": 23,
   "metadata": {},
   "outputs": [
    {
     "data": {
      "text/plain": [
       "Gender\n",
       "Male      6\n",
       "Female    2\n",
       "Name: count, dtype: int64"
      ]
     },
     "execution_count": 23,
     "metadata": {},
     "output_type": "execute_result"
    }
   ],
   "source": [
    "df['Gender'].value_counts()   #Total no. of male and female"
   ]
  },
  {
   "cell_type": "code",
   "execution_count": 24,
   "metadata": {},
   "outputs": [],
   "source": [
    "df['Sex']='Male'"
   ]
  },
  {
   "cell_type": "code",
   "execution_count": 25,
   "metadata": {},
   "outputs": [
    {
     "data": {
      "text/plain": [
       "0    Male\n",
       "1    Male\n",
       "2    Male\n",
       "3    Male\n",
       "4    Male\n",
       "5    Male\n",
       "6    Male\n",
       "7    Male\n",
       "Name: Sex, dtype: object"
      ]
     },
     "execution_count": 25,
     "metadata": {},
     "output_type": "execute_result"
    }
   ],
   "source": [
    "df['Sex']"
   ]
  },
  {
   "cell_type": "code",
   "execution_count": 26,
   "metadata": {},
   "outputs": [
    {
     "data": {
      "text/html": [
       "<div>\n",
       "<style scoped>\n",
       "    .dataframe tbody tr th:only-of-type {\n",
       "        vertical-align: middle;\n",
       "    }\n",
       "\n",
       "    .dataframe tbody tr th {\n",
       "        vertical-align: top;\n",
       "    }\n",
       "\n",
       "    .dataframe thead th {\n",
       "        text-align: right;\n",
       "    }\n",
       "</style>\n",
       "<table border=\"1\" class=\"dataframe\">\n",
       "  <thead>\n",
       "    <tr style=\"text-align: right;\">\n",
       "      <th></th>\n",
       "      <th>Name</th>\n",
       "      <th>Gender</th>\n",
       "      <th>Age</th>\n",
       "      <th>Hobby</th>\n",
       "      <th>Cum_Age</th>\n",
       "      <th>Sex</th>\n",
       "    </tr>\n",
       "  </thead>\n",
       "  <tbody>\n",
       "    <tr>\n",
       "      <th>0</th>\n",
       "      <td>Asad</td>\n",
       "      <td>Male</td>\n",
       "      <td>27</td>\n",
       "      <td>Pinik</td>\n",
       "      <td>27</td>\n",
       "      <td>Male</td>\n",
       "    </tr>\n",
       "    <tr>\n",
       "      <th>1</th>\n",
       "      <td>Konchi</td>\n",
       "      <td>Male</td>\n",
       "      <td>26</td>\n",
       "      <td>Pinik</td>\n",
       "      <td>53</td>\n",
       "      <td>Male</td>\n",
       "    </tr>\n",
       "    <tr>\n",
       "      <th>3</th>\n",
       "      <td>Fuda</td>\n",
       "      <td>Male</td>\n",
       "      <td>25</td>\n",
       "      <td>Bitik</td>\n",
       "      <td>117</td>\n",
       "      <td>Male</td>\n",
       "    </tr>\n",
       "    <tr>\n",
       "      <th>5</th>\n",
       "      <td>Valluk</td>\n",
       "      <td>Male</td>\n",
       "      <td>27</td>\n",
       "      <td>Bitik</td>\n",
       "      <td>174</td>\n",
       "      <td>Male</td>\n",
       "    </tr>\n",
       "    <tr>\n",
       "      <th>6</th>\n",
       "      <td>Saddam Shot</td>\n",
       "      <td>Male</td>\n",
       "      <td>90</td>\n",
       "      <td>Fucking Slut</td>\n",
       "      <td>264</td>\n",
       "      <td>Male</td>\n",
       "    </tr>\n",
       "    <tr>\n",
       "      <th>7</th>\n",
       "      <td>Tugitt</td>\n",
       "      <td>Male</td>\n",
       "      <td>35</td>\n",
       "      <td>Fucking Boudi</td>\n",
       "      <td>299</td>\n",
       "      <td>Male</td>\n",
       "    </tr>\n",
       "  </tbody>\n",
       "</table>\n",
       "</div>"
      ],
      "text/plain": [
       "          Name Gender  Age          Hobby  Cum_Age   Sex\n",
       "0         Asad   Male   27          Pinik       27  Male\n",
       "1       Konchi   Male   26          Pinik       53  Male\n",
       "3         Fuda   Male   25          Bitik      117  Male\n",
       "5       Valluk   Male   27          Bitik      174  Male\n",
       "6  Saddam Shot   Male   90   Fucking Slut      264  Male\n",
       "7       Tugitt   Male   35  Fucking Boudi      299  Male"
      ]
     },
     "execution_count": 26,
     "metadata": {},
     "output_type": "execute_result"
    }
   ],
   "source": [
    "df[df['Gender']=='Male']     # If we want to view the list of only male"
   ]
  },
  {
   "cell_type": "code",
   "execution_count": 27,
   "metadata": {},
   "outputs": [],
   "source": [
    "df1=df['Age']"
   ]
  },
  {
   "cell_type": "code",
   "execution_count": 28,
   "metadata": {},
   "outputs": [
    {
     "data": {
      "text/plain": [
       "0    27\n",
       "1    26\n",
       "2    39\n",
       "3    25\n",
       "4    30\n",
       "5    27\n",
       "6    90\n",
       "7    35\n",
       "Name: Age, dtype: int64"
      ]
     },
     "execution_count": 28,
     "metadata": {},
     "output_type": "execute_result"
    }
   ],
   "source": [
    "df1"
   ]
  },
  {
   "cell_type": "code",
   "execution_count": 29,
   "metadata": {},
   "outputs": [],
   "source": [
    "df2=df[['Age','Cum_Age']]"
   ]
  },
  {
   "cell_type": "code",
   "execution_count": 30,
   "metadata": {},
   "outputs": [
    {
     "data": {
      "text/html": [
       "<div>\n",
       "<style scoped>\n",
       "    .dataframe tbody tr th:only-of-type {\n",
       "        vertical-align: middle;\n",
       "    }\n",
       "\n",
       "    .dataframe tbody tr th {\n",
       "        vertical-align: top;\n",
       "    }\n",
       "\n",
       "    .dataframe thead th {\n",
       "        text-align: right;\n",
       "    }\n",
       "</style>\n",
       "<table border=\"1\" class=\"dataframe\">\n",
       "  <thead>\n",
       "    <tr style=\"text-align: right;\">\n",
       "      <th></th>\n",
       "      <th>Age</th>\n",
       "      <th>Cum_Age</th>\n",
       "    </tr>\n",
       "  </thead>\n",
       "  <tbody>\n",
       "    <tr>\n",
       "      <th>0</th>\n",
       "      <td>27</td>\n",
       "      <td>27</td>\n",
       "    </tr>\n",
       "    <tr>\n",
       "      <th>1</th>\n",
       "      <td>26</td>\n",
       "      <td>53</td>\n",
       "    </tr>\n",
       "    <tr>\n",
       "      <th>2</th>\n",
       "      <td>39</td>\n",
       "      <td>92</td>\n",
       "    </tr>\n",
       "    <tr>\n",
       "      <th>3</th>\n",
       "      <td>25</td>\n",
       "      <td>117</td>\n",
       "    </tr>\n",
       "    <tr>\n",
       "      <th>4</th>\n",
       "      <td>30</td>\n",
       "      <td>147</td>\n",
       "    </tr>\n",
       "    <tr>\n",
       "      <th>5</th>\n",
       "      <td>27</td>\n",
       "      <td>174</td>\n",
       "    </tr>\n",
       "    <tr>\n",
       "      <th>6</th>\n",
       "      <td>90</td>\n",
       "      <td>264</td>\n",
       "    </tr>\n",
       "    <tr>\n",
       "      <th>7</th>\n",
       "      <td>35</td>\n",
       "      <td>299</td>\n",
       "    </tr>\n",
       "  </tbody>\n",
       "</table>\n",
       "</div>"
      ],
      "text/plain": [
       "   Age  Cum_Age\n",
       "0   27       27\n",
       "1   26       53\n",
       "2   39       92\n",
       "3   25      117\n",
       "4   30      147\n",
       "5   27      174\n",
       "6   90      264\n",
       "7   35      299"
      ]
     },
     "execution_count": 30,
     "metadata": {},
     "output_type": "execute_result"
    }
   ],
   "source": [
    "df2"
   ]
  },
  {
   "cell_type": "code",
   "execution_count": 31,
   "metadata": {},
   "outputs": [],
   "source": [
    "df2=df[['Age','Cum_Age']].corr()"
   ]
  },
  {
   "cell_type": "code",
   "execution_count": 32,
   "metadata": {},
   "outputs": [
    {
     "data": {
      "text/html": [
       "<div>\n",
       "<style scoped>\n",
       "    .dataframe tbody tr th:only-of-type {\n",
       "        vertical-align: middle;\n",
       "    }\n",
       "\n",
       "    .dataframe tbody tr th {\n",
       "        vertical-align: top;\n",
       "    }\n",
       "\n",
       "    .dataframe thead th {\n",
       "        text-align: right;\n",
       "    }\n",
       "</style>\n",
       "<table border=\"1\" class=\"dataframe\">\n",
       "  <thead>\n",
       "    <tr style=\"text-align: right;\">\n",
       "      <th></th>\n",
       "      <th>Age</th>\n",
       "      <th>Cum_Age</th>\n",
       "    </tr>\n",
       "  </thead>\n",
       "  <tbody>\n",
       "    <tr>\n",
       "      <th>Age</th>\n",
       "      <td>1.000000</td>\n",
       "      <td>0.552751</td>\n",
       "    </tr>\n",
       "    <tr>\n",
       "      <th>Cum_Age</th>\n",
       "      <td>0.552751</td>\n",
       "      <td>1.000000</td>\n",
       "    </tr>\n",
       "  </tbody>\n",
       "</table>\n",
       "</div>"
      ],
      "text/plain": [
       "              Age   Cum_Age\n",
       "Age      1.000000  0.552751\n",
       "Cum_Age  0.552751  1.000000"
      ]
     },
     "execution_count": 32,
     "metadata": {},
     "output_type": "execute_result"
    }
   ],
   "source": [
    "df2"
   ]
  },
  {
   "cell_type": "code",
   "execution_count": 33,
   "metadata": {},
   "outputs": [
    {
     "data": {
      "text/html": [
       "<div>\n",
       "<style scoped>\n",
       "    .dataframe tbody tr th:only-of-type {\n",
       "        vertical-align: middle;\n",
       "    }\n",
       "\n",
       "    .dataframe tbody tr th {\n",
       "        vertical-align: top;\n",
       "    }\n",
       "\n",
       "    .dataframe thead th {\n",
       "        text-align: right;\n",
       "    }\n",
       "</style>\n",
       "<table border=\"1\" class=\"dataframe\">\n",
       "  <thead>\n",
       "    <tr style=\"text-align: right;\">\n",
       "      <th></th>\n",
       "      <th>Name</th>\n",
       "      <th>Gender</th>\n",
       "      <th>Age</th>\n",
       "      <th>Hobby</th>\n",
       "      <th>Cum_Age</th>\n",
       "      <th>Sex</th>\n",
       "    </tr>\n",
       "  </thead>\n",
       "  <tbody>\n",
       "    <tr>\n",
       "      <th>2</th>\n",
       "      <td>Laili</td>\n",
       "      <td>Female</td>\n",
       "      <td>39</td>\n",
       "      <td>Drug Dealer</td>\n",
       "      <td>92</td>\n",
       "      <td>Male</td>\n",
       "    </tr>\n",
       "    <tr>\n",
       "      <th>4</th>\n",
       "      <td>Chikni</td>\n",
       "      <td>Female</td>\n",
       "      <td>30</td>\n",
       "      <td>Past Crush</td>\n",
       "      <td>147</td>\n",
       "      <td>Male</td>\n",
       "    </tr>\n",
       "  </tbody>\n",
       "</table>\n",
       "</div>"
      ],
      "text/plain": [
       "     Name  Gender  Age        Hobby  Cum_Age   Sex\n",
       "2   Laili  Female   39  Drug Dealer       92  Male\n",
       "4  Chikni  Female   30   Past Crush      147  Male"
      ]
     },
     "execution_count": 33,
     "metadata": {},
     "output_type": "execute_result"
    }
   ],
   "source": [
    "df[df['Gender']=='Female'] "
   ]
  },
  {
   "cell_type": "code",
   "execution_count": 34,
   "metadata": {},
   "outputs": [],
   "source": [
    "df['Cum_Hobby']=df['Hobby'].cumsum()"
   ]
  },
  {
   "cell_type": "code",
   "execution_count": 35,
   "metadata": {},
   "outputs": [
    {
     "data": {
      "text/html": [
       "<div>\n",
       "<style scoped>\n",
       "    .dataframe tbody tr th:only-of-type {\n",
       "        vertical-align: middle;\n",
       "    }\n",
       "\n",
       "    .dataframe tbody tr th {\n",
       "        vertical-align: top;\n",
       "    }\n",
       "\n",
       "    .dataframe thead th {\n",
       "        text-align: right;\n",
       "    }\n",
       "</style>\n",
       "<table border=\"1\" class=\"dataframe\">\n",
       "  <thead>\n",
       "    <tr style=\"text-align: right;\">\n",
       "      <th></th>\n",
       "      <th>Name</th>\n",
       "      <th>Gender</th>\n",
       "      <th>Age</th>\n",
       "      <th>Hobby</th>\n",
       "      <th>Cum_Age</th>\n",
       "      <th>Sex</th>\n",
       "      <th>Cum_Hobby</th>\n",
       "    </tr>\n",
       "  </thead>\n",
       "  <tbody>\n",
       "    <tr>\n",
       "      <th>0</th>\n",
       "      <td>Asad</td>\n",
       "      <td>Male</td>\n",
       "      <td>27</td>\n",
       "      <td>Pinik</td>\n",
       "      <td>27</td>\n",
       "      <td>Male</td>\n",
       "      <td>Pinik</td>\n",
       "    </tr>\n",
       "    <tr>\n",
       "      <th>1</th>\n",
       "      <td>Konchi</td>\n",
       "      <td>Male</td>\n",
       "      <td>26</td>\n",
       "      <td>Pinik</td>\n",
       "      <td>53</td>\n",
       "      <td>Male</td>\n",
       "      <td>PinikPinik</td>\n",
       "    </tr>\n",
       "    <tr>\n",
       "      <th>2</th>\n",
       "      <td>Laili</td>\n",
       "      <td>Female</td>\n",
       "      <td>39</td>\n",
       "      <td>Drug Dealer</td>\n",
       "      <td>92</td>\n",
       "      <td>Male</td>\n",
       "      <td>PinikPinikDrug Dealer</td>\n",
       "    </tr>\n",
       "    <tr>\n",
       "      <th>3</th>\n",
       "      <td>Fuda</td>\n",
       "      <td>Male</td>\n",
       "      <td>25</td>\n",
       "      <td>Bitik</td>\n",
       "      <td>117</td>\n",
       "      <td>Male</td>\n",
       "      <td>PinikPinikDrug DealerBitik</td>\n",
       "    </tr>\n",
       "    <tr>\n",
       "      <th>4</th>\n",
       "      <td>Chikni</td>\n",
       "      <td>Female</td>\n",
       "      <td>30</td>\n",
       "      <td>Past Crush</td>\n",
       "      <td>147</td>\n",
       "      <td>Male</td>\n",
       "      <td>PinikPinikDrug DealerBitikPast Crush</td>\n",
       "    </tr>\n",
       "    <tr>\n",
       "      <th>5</th>\n",
       "      <td>Valluk</td>\n",
       "      <td>Male</td>\n",
       "      <td>27</td>\n",
       "      <td>Bitik</td>\n",
       "      <td>174</td>\n",
       "      <td>Male</td>\n",
       "      <td>PinikPinikDrug DealerBitikPast CrushBitik</td>\n",
       "    </tr>\n",
       "    <tr>\n",
       "      <th>6</th>\n",
       "      <td>Saddam Shot</td>\n",
       "      <td>Male</td>\n",
       "      <td>90</td>\n",
       "      <td>Fucking Slut</td>\n",
       "      <td>264</td>\n",
       "      <td>Male</td>\n",
       "      <td>PinikPinikDrug DealerBitikPast CrushBitikFucki...</td>\n",
       "    </tr>\n",
       "    <tr>\n",
       "      <th>7</th>\n",
       "      <td>Tugitt</td>\n",
       "      <td>Male</td>\n",
       "      <td>35</td>\n",
       "      <td>Fucking Boudi</td>\n",
       "      <td>299</td>\n",
       "      <td>Male</td>\n",
       "      <td>PinikPinikDrug DealerBitikPast CrushBitikFucki...</td>\n",
       "    </tr>\n",
       "  </tbody>\n",
       "</table>\n",
       "</div>"
      ],
      "text/plain": [
       "          Name  Gender  Age          Hobby  Cum_Age   Sex  \\\n",
       "0         Asad    Male   27          Pinik       27  Male   \n",
       "1       Konchi    Male   26          Pinik       53  Male   \n",
       "2        Laili  Female   39    Drug Dealer       92  Male   \n",
       "3         Fuda    Male   25          Bitik      117  Male   \n",
       "4       Chikni  Female   30     Past Crush      147  Male   \n",
       "5       Valluk    Male   27          Bitik      174  Male   \n",
       "6  Saddam Shot    Male   90   Fucking Slut      264  Male   \n",
       "7       Tugitt    Male   35  Fucking Boudi      299  Male   \n",
       "\n",
       "                                           Cum_Hobby  \n",
       "0                                              Pinik  \n",
       "1                                         PinikPinik  \n",
       "2                              PinikPinikDrug Dealer  \n",
       "3                         PinikPinikDrug DealerBitik  \n",
       "4               PinikPinikDrug DealerBitikPast Crush  \n",
       "5          PinikPinikDrug DealerBitikPast CrushBitik  \n",
       "6  PinikPinikDrug DealerBitikPast CrushBitikFucki...  \n",
       "7  PinikPinikDrug DealerBitikPast CrushBitikFucki...  "
      ]
     },
     "execution_count": 35,
     "metadata": {},
     "output_type": "execute_result"
    }
   ],
   "source": [
    "df"
   ]
  },
  {
   "cell_type": "code",
   "execution_count": 36,
   "metadata": {},
   "outputs": [],
   "source": [
    "df['Dup_Age']=df['Age']"
   ]
  },
  {
   "cell_type": "code",
   "execution_count": 37,
   "metadata": {},
   "outputs": [
    {
     "data": {
      "text/html": [
       "<div>\n",
       "<style scoped>\n",
       "    .dataframe tbody tr th:only-of-type {\n",
       "        vertical-align: middle;\n",
       "    }\n",
       "\n",
       "    .dataframe tbody tr th {\n",
       "        vertical-align: top;\n",
       "    }\n",
       "\n",
       "    .dataframe thead th {\n",
       "        text-align: right;\n",
       "    }\n",
       "</style>\n",
       "<table border=\"1\" class=\"dataframe\">\n",
       "  <thead>\n",
       "    <tr style=\"text-align: right;\">\n",
       "      <th></th>\n",
       "      <th>Name</th>\n",
       "      <th>Gender</th>\n",
       "      <th>Age</th>\n",
       "      <th>Hobby</th>\n",
       "      <th>Cum_Age</th>\n",
       "      <th>Sex</th>\n",
       "      <th>Cum_Hobby</th>\n",
       "      <th>Dup_Age</th>\n",
       "    </tr>\n",
       "  </thead>\n",
       "  <tbody>\n",
       "    <tr>\n",
       "      <th>0</th>\n",
       "      <td>Asad</td>\n",
       "      <td>Male</td>\n",
       "      <td>27</td>\n",
       "      <td>Pinik</td>\n",
       "      <td>27</td>\n",
       "      <td>Male</td>\n",
       "      <td>Pinik</td>\n",
       "      <td>27</td>\n",
       "    </tr>\n",
       "    <tr>\n",
       "      <th>1</th>\n",
       "      <td>Konchi</td>\n",
       "      <td>Male</td>\n",
       "      <td>26</td>\n",
       "      <td>Pinik</td>\n",
       "      <td>53</td>\n",
       "      <td>Male</td>\n",
       "      <td>PinikPinik</td>\n",
       "      <td>26</td>\n",
       "    </tr>\n",
       "    <tr>\n",
       "      <th>2</th>\n",
       "      <td>Laili</td>\n",
       "      <td>Female</td>\n",
       "      <td>39</td>\n",
       "      <td>Drug Dealer</td>\n",
       "      <td>92</td>\n",
       "      <td>Male</td>\n",
       "      <td>PinikPinikDrug Dealer</td>\n",
       "      <td>39</td>\n",
       "    </tr>\n",
       "    <tr>\n",
       "      <th>3</th>\n",
       "      <td>Fuda</td>\n",
       "      <td>Male</td>\n",
       "      <td>25</td>\n",
       "      <td>Bitik</td>\n",
       "      <td>117</td>\n",
       "      <td>Male</td>\n",
       "      <td>PinikPinikDrug DealerBitik</td>\n",
       "      <td>25</td>\n",
       "    </tr>\n",
       "    <tr>\n",
       "      <th>4</th>\n",
       "      <td>Chikni</td>\n",
       "      <td>Female</td>\n",
       "      <td>30</td>\n",
       "      <td>Past Crush</td>\n",
       "      <td>147</td>\n",
       "      <td>Male</td>\n",
       "      <td>PinikPinikDrug DealerBitikPast Crush</td>\n",
       "      <td>30</td>\n",
       "    </tr>\n",
       "    <tr>\n",
       "      <th>5</th>\n",
       "      <td>Valluk</td>\n",
       "      <td>Male</td>\n",
       "      <td>27</td>\n",
       "      <td>Bitik</td>\n",
       "      <td>174</td>\n",
       "      <td>Male</td>\n",
       "      <td>PinikPinikDrug DealerBitikPast CrushBitik</td>\n",
       "      <td>27</td>\n",
       "    </tr>\n",
       "    <tr>\n",
       "      <th>6</th>\n",
       "      <td>Saddam Shot</td>\n",
       "      <td>Male</td>\n",
       "      <td>90</td>\n",
       "      <td>Fucking Slut</td>\n",
       "      <td>264</td>\n",
       "      <td>Male</td>\n",
       "      <td>PinikPinikDrug DealerBitikPast CrushBitikFucki...</td>\n",
       "      <td>90</td>\n",
       "    </tr>\n",
       "    <tr>\n",
       "      <th>7</th>\n",
       "      <td>Tugitt</td>\n",
       "      <td>Male</td>\n",
       "      <td>35</td>\n",
       "      <td>Fucking Boudi</td>\n",
       "      <td>299</td>\n",
       "      <td>Male</td>\n",
       "      <td>PinikPinikDrug DealerBitikPast CrushBitikFucki...</td>\n",
       "      <td>35</td>\n",
       "    </tr>\n",
       "  </tbody>\n",
       "</table>\n",
       "</div>"
      ],
      "text/plain": [
       "          Name  Gender  Age          Hobby  Cum_Age   Sex  \\\n",
       "0         Asad    Male   27          Pinik       27  Male   \n",
       "1       Konchi    Male   26          Pinik       53  Male   \n",
       "2        Laili  Female   39    Drug Dealer       92  Male   \n",
       "3         Fuda    Male   25          Bitik      117  Male   \n",
       "4       Chikni  Female   30     Past Crush      147  Male   \n",
       "5       Valluk    Male   27          Bitik      174  Male   \n",
       "6  Saddam Shot    Male   90   Fucking Slut      264  Male   \n",
       "7       Tugitt    Male   35  Fucking Boudi      299  Male   \n",
       "\n",
       "                                           Cum_Hobby  Dup_Age  \n",
       "0                                              Pinik       27  \n",
       "1                                         PinikPinik       26  \n",
       "2                              PinikPinikDrug Dealer       39  \n",
       "3                         PinikPinikDrug DealerBitik       25  \n",
       "4               PinikPinikDrug DealerBitikPast Crush       30  \n",
       "5          PinikPinikDrug DealerBitikPast CrushBitik       27  \n",
       "6  PinikPinikDrug DealerBitikPast CrushBitikFucki...       90  \n",
       "7  PinikPinikDrug DealerBitikPast CrushBitikFucki...       35  "
      ]
     },
     "execution_count": 37,
     "metadata": {},
     "output_type": "execute_result"
    }
   ],
   "source": [
    "df"
   ]
  },
  {
   "cell_type": "code",
   "execution_count": 38,
   "metadata": {},
   "outputs": [],
   "source": [
    "df['Dup_Hobby']=df['Hobby']"
   ]
  },
  {
   "cell_type": "code",
   "execution_count": 39,
   "metadata": {},
   "outputs": [
    {
     "data": {
      "text/html": [
       "<div>\n",
       "<style scoped>\n",
       "    .dataframe tbody tr th:only-of-type {\n",
       "        vertical-align: middle;\n",
       "    }\n",
       "\n",
       "    .dataframe tbody tr th {\n",
       "        vertical-align: top;\n",
       "    }\n",
       "\n",
       "    .dataframe thead th {\n",
       "        text-align: right;\n",
       "    }\n",
       "</style>\n",
       "<table border=\"1\" class=\"dataframe\">\n",
       "  <thead>\n",
       "    <tr style=\"text-align: right;\">\n",
       "      <th></th>\n",
       "      <th>Name</th>\n",
       "      <th>Gender</th>\n",
       "      <th>Age</th>\n",
       "      <th>Hobby</th>\n",
       "      <th>Cum_Age</th>\n",
       "      <th>Sex</th>\n",
       "      <th>Cum_Hobby</th>\n",
       "      <th>Dup_Age</th>\n",
       "      <th>Dup_Hobby</th>\n",
       "    </tr>\n",
       "  </thead>\n",
       "  <tbody>\n",
       "    <tr>\n",
       "      <th>0</th>\n",
       "      <td>Asad</td>\n",
       "      <td>Male</td>\n",
       "      <td>27</td>\n",
       "      <td>Pinik</td>\n",
       "      <td>27</td>\n",
       "      <td>Male</td>\n",
       "      <td>Pinik</td>\n",
       "      <td>27</td>\n",
       "      <td>Pinik</td>\n",
       "    </tr>\n",
       "    <tr>\n",
       "      <th>1</th>\n",
       "      <td>Konchi</td>\n",
       "      <td>Male</td>\n",
       "      <td>26</td>\n",
       "      <td>Pinik</td>\n",
       "      <td>53</td>\n",
       "      <td>Male</td>\n",
       "      <td>PinikPinik</td>\n",
       "      <td>26</td>\n",
       "      <td>Pinik</td>\n",
       "    </tr>\n",
       "    <tr>\n",
       "      <th>2</th>\n",
       "      <td>Laili</td>\n",
       "      <td>Female</td>\n",
       "      <td>39</td>\n",
       "      <td>Drug Dealer</td>\n",
       "      <td>92</td>\n",
       "      <td>Male</td>\n",
       "      <td>PinikPinikDrug Dealer</td>\n",
       "      <td>39</td>\n",
       "      <td>Drug Dealer</td>\n",
       "    </tr>\n",
       "    <tr>\n",
       "      <th>3</th>\n",
       "      <td>Fuda</td>\n",
       "      <td>Male</td>\n",
       "      <td>25</td>\n",
       "      <td>Bitik</td>\n",
       "      <td>117</td>\n",
       "      <td>Male</td>\n",
       "      <td>PinikPinikDrug DealerBitik</td>\n",
       "      <td>25</td>\n",
       "      <td>Bitik</td>\n",
       "    </tr>\n",
       "    <tr>\n",
       "      <th>4</th>\n",
       "      <td>Chikni</td>\n",
       "      <td>Female</td>\n",
       "      <td>30</td>\n",
       "      <td>Past Crush</td>\n",
       "      <td>147</td>\n",
       "      <td>Male</td>\n",
       "      <td>PinikPinikDrug DealerBitikPast Crush</td>\n",
       "      <td>30</td>\n",
       "      <td>Past Crush</td>\n",
       "    </tr>\n",
       "    <tr>\n",
       "      <th>5</th>\n",
       "      <td>Valluk</td>\n",
       "      <td>Male</td>\n",
       "      <td>27</td>\n",
       "      <td>Bitik</td>\n",
       "      <td>174</td>\n",
       "      <td>Male</td>\n",
       "      <td>PinikPinikDrug DealerBitikPast CrushBitik</td>\n",
       "      <td>27</td>\n",
       "      <td>Bitik</td>\n",
       "    </tr>\n",
       "    <tr>\n",
       "      <th>6</th>\n",
       "      <td>Saddam Shot</td>\n",
       "      <td>Male</td>\n",
       "      <td>90</td>\n",
       "      <td>Fucking Slut</td>\n",
       "      <td>264</td>\n",
       "      <td>Male</td>\n",
       "      <td>PinikPinikDrug DealerBitikPast CrushBitikFucki...</td>\n",
       "      <td>90</td>\n",
       "      <td>Fucking Slut</td>\n",
       "    </tr>\n",
       "    <tr>\n",
       "      <th>7</th>\n",
       "      <td>Tugitt</td>\n",
       "      <td>Male</td>\n",
       "      <td>35</td>\n",
       "      <td>Fucking Boudi</td>\n",
       "      <td>299</td>\n",
       "      <td>Male</td>\n",
       "      <td>PinikPinikDrug DealerBitikPast CrushBitikFucki...</td>\n",
       "      <td>35</td>\n",
       "      <td>Fucking Boudi</td>\n",
       "    </tr>\n",
       "  </tbody>\n",
       "</table>\n",
       "</div>"
      ],
      "text/plain": [
       "          Name  Gender  Age          Hobby  Cum_Age   Sex  \\\n",
       "0         Asad    Male   27          Pinik       27  Male   \n",
       "1       Konchi    Male   26          Pinik       53  Male   \n",
       "2        Laili  Female   39    Drug Dealer       92  Male   \n",
       "3         Fuda    Male   25          Bitik      117  Male   \n",
       "4       Chikni  Female   30     Past Crush      147  Male   \n",
       "5       Valluk    Male   27          Bitik      174  Male   \n",
       "6  Saddam Shot    Male   90   Fucking Slut      264  Male   \n",
       "7       Tugitt    Male   35  Fucking Boudi      299  Male   \n",
       "\n",
       "                                           Cum_Hobby  Dup_Age      Dup_Hobby  \n",
       "0                                              Pinik       27          Pinik  \n",
       "1                                         PinikPinik       26          Pinik  \n",
       "2                              PinikPinikDrug Dealer       39    Drug Dealer  \n",
       "3                         PinikPinikDrug DealerBitik       25          Bitik  \n",
       "4               PinikPinikDrug DealerBitikPast Crush       30     Past Crush  \n",
       "5          PinikPinikDrug DealerBitikPast CrushBitik       27          Bitik  \n",
       "6  PinikPinikDrug DealerBitikPast CrushBitikFucki...       90   Fucking Slut  \n",
       "7  PinikPinikDrug DealerBitikPast CrushBitikFucki...       35  Fucking Boudi  "
      ]
     },
     "execution_count": 39,
     "metadata": {},
     "output_type": "execute_result"
    }
   ],
   "source": [
    "df"
   ]
  },
  {
   "cell_type": "markdown",
   "metadata": {},
   "source": [
    "# Sorting"
   ]
  },
  {
   "cell_type": "code",
   "execution_count": 40,
   "metadata": {},
   "outputs": [],
   "source": [
    "df_sorted = df.sort_values(by='Age')\n"
   ]
  },
  {
   "cell_type": "code",
   "execution_count": 41,
   "metadata": {},
   "outputs": [
    {
     "data": {
      "text/html": [
       "<div>\n",
       "<style scoped>\n",
       "    .dataframe tbody tr th:only-of-type {\n",
       "        vertical-align: middle;\n",
       "    }\n",
       "\n",
       "    .dataframe tbody tr th {\n",
       "        vertical-align: top;\n",
       "    }\n",
       "\n",
       "    .dataframe thead th {\n",
       "        text-align: right;\n",
       "    }\n",
       "</style>\n",
       "<table border=\"1\" class=\"dataframe\">\n",
       "  <thead>\n",
       "    <tr style=\"text-align: right;\">\n",
       "      <th></th>\n",
       "      <th>Name</th>\n",
       "      <th>Gender</th>\n",
       "      <th>Age</th>\n",
       "      <th>Hobby</th>\n",
       "      <th>Cum_Age</th>\n",
       "      <th>Sex</th>\n",
       "      <th>Cum_Hobby</th>\n",
       "      <th>Dup_Age</th>\n",
       "      <th>Dup_Hobby</th>\n",
       "    </tr>\n",
       "  </thead>\n",
       "  <tbody>\n",
       "    <tr>\n",
       "      <th>3</th>\n",
       "      <td>Fuda</td>\n",
       "      <td>Male</td>\n",
       "      <td>25</td>\n",
       "      <td>Bitik</td>\n",
       "      <td>117</td>\n",
       "      <td>Male</td>\n",
       "      <td>PinikPinikDrug DealerBitik</td>\n",
       "      <td>25</td>\n",
       "      <td>Bitik</td>\n",
       "    </tr>\n",
       "    <tr>\n",
       "      <th>1</th>\n",
       "      <td>Konchi</td>\n",
       "      <td>Male</td>\n",
       "      <td>26</td>\n",
       "      <td>Pinik</td>\n",
       "      <td>53</td>\n",
       "      <td>Male</td>\n",
       "      <td>PinikPinik</td>\n",
       "      <td>26</td>\n",
       "      <td>Pinik</td>\n",
       "    </tr>\n",
       "    <tr>\n",
       "      <th>0</th>\n",
       "      <td>Asad</td>\n",
       "      <td>Male</td>\n",
       "      <td>27</td>\n",
       "      <td>Pinik</td>\n",
       "      <td>27</td>\n",
       "      <td>Male</td>\n",
       "      <td>Pinik</td>\n",
       "      <td>27</td>\n",
       "      <td>Pinik</td>\n",
       "    </tr>\n",
       "    <tr>\n",
       "      <th>5</th>\n",
       "      <td>Valluk</td>\n",
       "      <td>Male</td>\n",
       "      <td>27</td>\n",
       "      <td>Bitik</td>\n",
       "      <td>174</td>\n",
       "      <td>Male</td>\n",
       "      <td>PinikPinikDrug DealerBitikPast CrushBitik</td>\n",
       "      <td>27</td>\n",
       "      <td>Bitik</td>\n",
       "    </tr>\n",
       "    <tr>\n",
       "      <th>4</th>\n",
       "      <td>Chikni</td>\n",
       "      <td>Female</td>\n",
       "      <td>30</td>\n",
       "      <td>Past Crush</td>\n",
       "      <td>147</td>\n",
       "      <td>Male</td>\n",
       "      <td>PinikPinikDrug DealerBitikPast Crush</td>\n",
       "      <td>30</td>\n",
       "      <td>Past Crush</td>\n",
       "    </tr>\n",
       "    <tr>\n",
       "      <th>7</th>\n",
       "      <td>Tugitt</td>\n",
       "      <td>Male</td>\n",
       "      <td>35</td>\n",
       "      <td>Fucking Boudi</td>\n",
       "      <td>299</td>\n",
       "      <td>Male</td>\n",
       "      <td>PinikPinikDrug DealerBitikPast CrushBitikFucki...</td>\n",
       "      <td>35</td>\n",
       "      <td>Fucking Boudi</td>\n",
       "    </tr>\n",
       "    <tr>\n",
       "      <th>2</th>\n",
       "      <td>Laili</td>\n",
       "      <td>Female</td>\n",
       "      <td>39</td>\n",
       "      <td>Drug Dealer</td>\n",
       "      <td>92</td>\n",
       "      <td>Male</td>\n",
       "      <td>PinikPinikDrug Dealer</td>\n",
       "      <td>39</td>\n",
       "      <td>Drug Dealer</td>\n",
       "    </tr>\n",
       "    <tr>\n",
       "      <th>6</th>\n",
       "      <td>Saddam Shot</td>\n",
       "      <td>Male</td>\n",
       "      <td>90</td>\n",
       "      <td>Fucking Slut</td>\n",
       "      <td>264</td>\n",
       "      <td>Male</td>\n",
       "      <td>PinikPinikDrug DealerBitikPast CrushBitikFucki...</td>\n",
       "      <td>90</td>\n",
       "      <td>Fucking Slut</td>\n",
       "    </tr>\n",
       "  </tbody>\n",
       "</table>\n",
       "</div>"
      ],
      "text/plain": [
       "          Name  Gender  Age          Hobby  Cum_Age   Sex  \\\n",
       "3         Fuda    Male   25          Bitik      117  Male   \n",
       "1       Konchi    Male   26          Pinik       53  Male   \n",
       "0         Asad    Male   27          Pinik       27  Male   \n",
       "5       Valluk    Male   27          Bitik      174  Male   \n",
       "4       Chikni  Female   30     Past Crush      147  Male   \n",
       "7       Tugitt    Male   35  Fucking Boudi      299  Male   \n",
       "2        Laili  Female   39    Drug Dealer       92  Male   \n",
       "6  Saddam Shot    Male   90   Fucking Slut      264  Male   \n",
       "\n",
       "                                           Cum_Hobby  Dup_Age      Dup_Hobby  \n",
       "3                         PinikPinikDrug DealerBitik       25          Bitik  \n",
       "1                                         PinikPinik       26          Pinik  \n",
       "0                                              Pinik       27          Pinik  \n",
       "5          PinikPinikDrug DealerBitikPast CrushBitik       27          Bitik  \n",
       "4               PinikPinikDrug DealerBitikPast Crush       30     Past Crush  \n",
       "7  PinikPinikDrug DealerBitikPast CrushBitikFucki...       35  Fucking Boudi  \n",
       "2                              PinikPinikDrug Dealer       39    Drug Dealer  \n",
       "6  PinikPinikDrug DealerBitikPast CrushBitikFucki...       90   Fucking Slut  "
      ]
     },
     "execution_count": 41,
     "metadata": {},
     "output_type": "execute_result"
    }
   ],
   "source": [
    "df_sorted"
   ]
  },
  {
   "cell_type": "code",
   "execution_count": 45,
   "metadata": {},
   "outputs": [
    {
     "data": {
      "text/html": [
       "<div>\n",
       "<style scoped>\n",
       "    .dataframe tbody tr th:only-of-type {\n",
       "        vertical-align: middle;\n",
       "    }\n",
       "\n",
       "    .dataframe tbody tr th {\n",
       "        vertical-align: top;\n",
       "    }\n",
       "\n",
       "    .dataframe thead th {\n",
       "        text-align: right;\n",
       "    }\n",
       "</style>\n",
       "<table border=\"1\" class=\"dataframe\">\n",
       "  <thead>\n",
       "    <tr style=\"text-align: right;\">\n",
       "      <th></th>\n",
       "      <th>Name</th>\n",
       "      <th>Gender</th>\n",
       "      <th>Age</th>\n",
       "      <th>Hobby</th>\n",
       "      <th>Cum_Age</th>\n",
       "      <th>Sex</th>\n",
       "      <th>Cum_Hobby</th>\n",
       "      <th>Dup_Age</th>\n",
       "      <th>Dup_Hobby</th>\n",
       "    </tr>\n",
       "  </thead>\n",
       "  <tbody>\n",
       "    <tr>\n",
       "      <th>6</th>\n",
       "      <td>Saddam Shot</td>\n",
       "      <td>Male</td>\n",
       "      <td>90</td>\n",
       "      <td>Fucking Slut</td>\n",
       "      <td>264</td>\n",
       "      <td>Male</td>\n",
       "      <td>PinikPinikDrug DealerBitikPast CrushBitikFucki...</td>\n",
       "      <td>90</td>\n",
       "      <td>Fucking Slut</td>\n",
       "    </tr>\n",
       "    <tr>\n",
       "      <th>2</th>\n",
       "      <td>Laili</td>\n",
       "      <td>Female</td>\n",
       "      <td>39</td>\n",
       "      <td>Drug Dealer</td>\n",
       "      <td>92</td>\n",
       "      <td>Male</td>\n",
       "      <td>PinikPinikDrug Dealer</td>\n",
       "      <td>39</td>\n",
       "      <td>Drug Dealer</td>\n",
       "    </tr>\n",
       "    <tr>\n",
       "      <th>7</th>\n",
       "      <td>Tugitt</td>\n",
       "      <td>Male</td>\n",
       "      <td>35</td>\n",
       "      <td>Fucking Boudi</td>\n",
       "      <td>299</td>\n",
       "      <td>Male</td>\n",
       "      <td>PinikPinikDrug DealerBitikPast CrushBitikFucki...</td>\n",
       "      <td>35</td>\n",
       "      <td>Fucking Boudi</td>\n",
       "    </tr>\n",
       "    <tr>\n",
       "      <th>4</th>\n",
       "      <td>Chikni</td>\n",
       "      <td>Female</td>\n",
       "      <td>30</td>\n",
       "      <td>Past Crush</td>\n",
       "      <td>147</td>\n",
       "      <td>Male</td>\n",
       "      <td>PinikPinikDrug DealerBitikPast Crush</td>\n",
       "      <td>30</td>\n",
       "      <td>Past Crush</td>\n",
       "    </tr>\n",
       "    <tr>\n",
       "      <th>0</th>\n",
       "      <td>Asad</td>\n",
       "      <td>Male</td>\n",
       "      <td>27</td>\n",
       "      <td>Pinik</td>\n",
       "      <td>27</td>\n",
       "      <td>Male</td>\n",
       "      <td>Pinik</td>\n",
       "      <td>27</td>\n",
       "      <td>Pinik</td>\n",
       "    </tr>\n",
       "    <tr>\n",
       "      <th>5</th>\n",
       "      <td>Valluk</td>\n",
       "      <td>Male</td>\n",
       "      <td>27</td>\n",
       "      <td>Bitik</td>\n",
       "      <td>174</td>\n",
       "      <td>Male</td>\n",
       "      <td>PinikPinikDrug DealerBitikPast CrushBitik</td>\n",
       "      <td>27</td>\n",
       "      <td>Bitik</td>\n",
       "    </tr>\n",
       "    <tr>\n",
       "      <th>1</th>\n",
       "      <td>Konchi</td>\n",
       "      <td>Male</td>\n",
       "      <td>26</td>\n",
       "      <td>Pinik</td>\n",
       "      <td>53</td>\n",
       "      <td>Male</td>\n",
       "      <td>PinikPinik</td>\n",
       "      <td>26</td>\n",
       "      <td>Pinik</td>\n",
       "    </tr>\n",
       "    <tr>\n",
       "      <th>3</th>\n",
       "      <td>Fuda</td>\n",
       "      <td>Male</td>\n",
       "      <td>25</td>\n",
       "      <td>Bitik</td>\n",
       "      <td>117</td>\n",
       "      <td>Male</td>\n",
       "      <td>PinikPinikDrug DealerBitik</td>\n",
       "      <td>25</td>\n",
       "      <td>Bitik</td>\n",
       "    </tr>\n",
       "  </tbody>\n",
       "</table>\n",
       "</div>"
      ],
      "text/plain": [
       "          Name  Gender  Age          Hobby  Cum_Age   Sex  \\\n",
       "6  Saddam Shot    Male   90   Fucking Slut      264  Male   \n",
       "2        Laili  Female   39    Drug Dealer       92  Male   \n",
       "7       Tugitt    Male   35  Fucking Boudi      299  Male   \n",
       "4       Chikni  Female   30     Past Crush      147  Male   \n",
       "0         Asad    Male   27          Pinik       27  Male   \n",
       "5       Valluk    Male   27          Bitik      174  Male   \n",
       "1       Konchi    Male   26          Pinik       53  Male   \n",
       "3         Fuda    Male   25          Bitik      117  Male   \n",
       "\n",
       "                                           Cum_Hobby  Dup_Age      Dup_Hobby  \n",
       "6  PinikPinikDrug DealerBitikPast CrushBitikFucki...       90   Fucking Slut  \n",
       "2                              PinikPinikDrug Dealer       39    Drug Dealer  \n",
       "7  PinikPinikDrug DealerBitikPast CrushBitikFucki...       35  Fucking Boudi  \n",
       "4               PinikPinikDrug DealerBitikPast Crush       30     Past Crush  \n",
       "0                                              Pinik       27          Pinik  \n",
       "5          PinikPinikDrug DealerBitikPast CrushBitik       27          Bitik  \n",
       "1                                         PinikPinik       26          Pinik  \n",
       "3                         PinikPinikDrug DealerBitik       25          Bitik  "
      ]
     },
     "execution_count": 45,
     "metadata": {},
     "output_type": "execute_result"
    }
   ],
   "source": [
    "df.sort_values(by='Age',ascending=False)"
   ]
  },
  {
   "cell_type": "code",
   "execution_count": 46,
   "metadata": {},
   "outputs": [
    {
     "data": {
      "text/html": [
       "<div>\n",
       "<style scoped>\n",
       "    .dataframe tbody tr th:only-of-type {\n",
       "        vertical-align: middle;\n",
       "    }\n",
       "\n",
       "    .dataframe tbody tr th {\n",
       "        vertical-align: top;\n",
       "    }\n",
       "\n",
       "    .dataframe thead th {\n",
       "        text-align: right;\n",
       "    }\n",
       "</style>\n",
       "<table border=\"1\" class=\"dataframe\">\n",
       "  <thead>\n",
       "    <tr style=\"text-align: right;\">\n",
       "      <th></th>\n",
       "      <th>Name</th>\n",
       "      <th>Gender</th>\n",
       "      <th>Age</th>\n",
       "      <th>Hobby</th>\n",
       "      <th>Cum_Age</th>\n",
       "      <th>Sex</th>\n",
       "      <th>Cum_Hobby</th>\n",
       "      <th>Dup_Age</th>\n",
       "      <th>Dup_Hobby</th>\n",
       "    </tr>\n",
       "  </thead>\n",
       "  <tbody>\n",
       "    <tr>\n",
       "      <th>3</th>\n",
       "      <td>Fuda</td>\n",
       "      <td>Male</td>\n",
       "      <td>25</td>\n",
       "      <td>Bitik</td>\n",
       "      <td>117</td>\n",
       "      <td>Male</td>\n",
       "      <td>PinikPinikDrug DealerBitik</td>\n",
       "      <td>25</td>\n",
       "      <td>Bitik</td>\n",
       "    </tr>\n",
       "    <tr>\n",
       "      <th>1</th>\n",
       "      <td>Konchi</td>\n",
       "      <td>Male</td>\n",
       "      <td>26</td>\n",
       "      <td>Pinik</td>\n",
       "      <td>53</td>\n",
       "      <td>Male</td>\n",
       "      <td>PinikPinik</td>\n",
       "      <td>26</td>\n",
       "      <td>Pinik</td>\n",
       "    </tr>\n",
       "    <tr>\n",
       "      <th>0</th>\n",
       "      <td>Asad</td>\n",
       "      <td>Male</td>\n",
       "      <td>27</td>\n",
       "      <td>Pinik</td>\n",
       "      <td>27</td>\n",
       "      <td>Male</td>\n",
       "      <td>Pinik</td>\n",
       "      <td>27</td>\n",
       "      <td>Pinik</td>\n",
       "    </tr>\n",
       "    <tr>\n",
       "      <th>5</th>\n",
       "      <td>Valluk</td>\n",
       "      <td>Male</td>\n",
       "      <td>27</td>\n",
       "      <td>Bitik</td>\n",
       "      <td>174</td>\n",
       "      <td>Male</td>\n",
       "      <td>PinikPinikDrug DealerBitikPast CrushBitik</td>\n",
       "      <td>27</td>\n",
       "      <td>Bitik</td>\n",
       "    </tr>\n",
       "    <tr>\n",
       "      <th>4</th>\n",
       "      <td>Chikni</td>\n",
       "      <td>Female</td>\n",
       "      <td>30</td>\n",
       "      <td>Past Crush</td>\n",
       "      <td>147</td>\n",
       "      <td>Male</td>\n",
       "      <td>PinikPinikDrug DealerBitikPast Crush</td>\n",
       "      <td>30</td>\n",
       "      <td>Past Crush</td>\n",
       "    </tr>\n",
       "    <tr>\n",
       "      <th>7</th>\n",
       "      <td>Tugitt</td>\n",
       "      <td>Male</td>\n",
       "      <td>35</td>\n",
       "      <td>Fucking Boudi</td>\n",
       "      <td>299</td>\n",
       "      <td>Male</td>\n",
       "      <td>PinikPinikDrug DealerBitikPast CrushBitikFucki...</td>\n",
       "      <td>35</td>\n",
       "      <td>Fucking Boudi</td>\n",
       "    </tr>\n",
       "    <tr>\n",
       "      <th>2</th>\n",
       "      <td>Laili</td>\n",
       "      <td>Female</td>\n",
       "      <td>39</td>\n",
       "      <td>Drug Dealer</td>\n",
       "      <td>92</td>\n",
       "      <td>Male</td>\n",
       "      <td>PinikPinikDrug Dealer</td>\n",
       "      <td>39</td>\n",
       "      <td>Drug Dealer</td>\n",
       "    </tr>\n",
       "    <tr>\n",
       "      <th>6</th>\n",
       "      <td>Saddam Shot</td>\n",
       "      <td>Male</td>\n",
       "      <td>90</td>\n",
       "      <td>Fucking Slut</td>\n",
       "      <td>264</td>\n",
       "      <td>Male</td>\n",
       "      <td>PinikPinikDrug DealerBitikPast CrushBitikFucki...</td>\n",
       "      <td>90</td>\n",
       "      <td>Fucking Slut</td>\n",
       "    </tr>\n",
       "  </tbody>\n",
       "</table>\n",
       "</div>"
      ],
      "text/plain": [
       "          Name  Gender  Age          Hobby  Cum_Age   Sex  \\\n",
       "3         Fuda    Male   25          Bitik      117  Male   \n",
       "1       Konchi    Male   26          Pinik       53  Male   \n",
       "0         Asad    Male   27          Pinik       27  Male   \n",
       "5       Valluk    Male   27          Bitik      174  Male   \n",
       "4       Chikni  Female   30     Past Crush      147  Male   \n",
       "7       Tugitt    Male   35  Fucking Boudi      299  Male   \n",
       "2        Laili  Female   39    Drug Dealer       92  Male   \n",
       "6  Saddam Shot    Male   90   Fucking Slut      264  Male   \n",
       "\n",
       "                                           Cum_Hobby  Dup_Age      Dup_Hobby  \n",
       "3                         PinikPinikDrug DealerBitik       25          Bitik  \n",
       "1                                         PinikPinik       26          Pinik  \n",
       "0                                              Pinik       27          Pinik  \n",
       "5          PinikPinikDrug DealerBitikPast CrushBitik       27          Bitik  \n",
       "4               PinikPinikDrug DealerBitikPast Crush       30     Past Crush  \n",
       "7  PinikPinikDrug DealerBitikPast CrushBitikFucki...       35  Fucking Boudi  \n",
       "2                              PinikPinikDrug Dealer       39    Drug Dealer  \n",
       "6  PinikPinikDrug DealerBitikPast CrushBitikFucki...       90   Fucking Slut  "
      ]
     },
     "execution_count": 46,
     "metadata": {},
     "output_type": "execute_result"
    }
   ],
   "source": [
    "df.sort_values(by='Age',ascending=True)"
   ]
  },
  {
   "cell_type": "code",
   "execution_count": 44,
   "metadata": {},
   "outputs": [
    {
     "data": {
      "text/html": [
       "<div>\n",
       "<style scoped>\n",
       "    .dataframe tbody tr th:only-of-type {\n",
       "        vertical-align: middle;\n",
       "    }\n",
       "\n",
       "    .dataframe tbody tr th {\n",
       "        vertical-align: top;\n",
       "    }\n",
       "\n",
       "    .dataframe thead th {\n",
       "        text-align: right;\n",
       "    }\n",
       "</style>\n",
       "<table border=\"1\" class=\"dataframe\">\n",
       "  <thead>\n",
       "    <tr style=\"text-align: right;\">\n",
       "      <th></th>\n",
       "      <th>Name</th>\n",
       "      <th>Gender</th>\n",
       "      <th>Age</th>\n",
       "      <th>Hobby</th>\n",
       "      <th>Cum_Age</th>\n",
       "      <th>Sex</th>\n",
       "      <th>Cum_Hobby</th>\n",
       "      <th>Dup_Age</th>\n",
       "      <th>Dup_Hobby</th>\n",
       "    </tr>\n",
       "  </thead>\n",
       "  <tbody>\n",
       "    <tr>\n",
       "      <th>0</th>\n",
       "      <td>Asad</td>\n",
       "      <td>Male</td>\n",
       "      <td>27</td>\n",
       "      <td>Pinik</td>\n",
       "      <td>27</td>\n",
       "      <td>Male</td>\n",
       "      <td>Pinik</td>\n",
       "      <td>27</td>\n",
       "      <td>Pinik</td>\n",
       "    </tr>\n",
       "    <tr>\n",
       "      <th>1</th>\n",
       "      <td>Konchi</td>\n",
       "      <td>Male</td>\n",
       "      <td>26</td>\n",
       "      <td>Pinik</td>\n",
       "      <td>53</td>\n",
       "      <td>Male</td>\n",
       "      <td>PinikPinik</td>\n",
       "      <td>26</td>\n",
       "      <td>Pinik</td>\n",
       "    </tr>\n",
       "    <tr>\n",
       "      <th>4</th>\n",
       "      <td>Chikni</td>\n",
       "      <td>Female</td>\n",
       "      <td>30</td>\n",
       "      <td>Past Crush</td>\n",
       "      <td>147</td>\n",
       "      <td>Male</td>\n",
       "      <td>PinikPinikDrug DealerBitikPast Crush</td>\n",
       "      <td>30</td>\n",
       "      <td>Past Crush</td>\n",
       "    </tr>\n",
       "    <tr>\n",
       "      <th>6</th>\n",
       "      <td>Saddam Shot</td>\n",
       "      <td>Male</td>\n",
       "      <td>90</td>\n",
       "      <td>Fucking Slut</td>\n",
       "      <td>264</td>\n",
       "      <td>Male</td>\n",
       "      <td>PinikPinikDrug DealerBitikPast CrushBitikFucki...</td>\n",
       "      <td>90</td>\n",
       "      <td>Fucking Slut</td>\n",
       "    </tr>\n",
       "    <tr>\n",
       "      <th>7</th>\n",
       "      <td>Tugitt</td>\n",
       "      <td>Male</td>\n",
       "      <td>35</td>\n",
       "      <td>Fucking Boudi</td>\n",
       "      <td>299</td>\n",
       "      <td>Male</td>\n",
       "      <td>PinikPinikDrug DealerBitikPast CrushBitikFucki...</td>\n",
       "      <td>35</td>\n",
       "      <td>Fucking Boudi</td>\n",
       "    </tr>\n",
       "    <tr>\n",
       "      <th>2</th>\n",
       "      <td>Laili</td>\n",
       "      <td>Female</td>\n",
       "      <td>39</td>\n",
       "      <td>Drug Dealer</td>\n",
       "      <td>92</td>\n",
       "      <td>Male</td>\n",
       "      <td>PinikPinikDrug Dealer</td>\n",
       "      <td>39</td>\n",
       "      <td>Drug Dealer</td>\n",
       "    </tr>\n",
       "    <tr>\n",
       "      <th>3</th>\n",
       "      <td>Fuda</td>\n",
       "      <td>Male</td>\n",
       "      <td>25</td>\n",
       "      <td>Bitik</td>\n",
       "      <td>117</td>\n",
       "      <td>Male</td>\n",
       "      <td>PinikPinikDrug DealerBitik</td>\n",
       "      <td>25</td>\n",
       "      <td>Bitik</td>\n",
       "    </tr>\n",
       "    <tr>\n",
       "      <th>5</th>\n",
       "      <td>Valluk</td>\n",
       "      <td>Male</td>\n",
       "      <td>27</td>\n",
       "      <td>Bitik</td>\n",
       "      <td>174</td>\n",
       "      <td>Male</td>\n",
       "      <td>PinikPinikDrug DealerBitikPast CrushBitik</td>\n",
       "      <td>27</td>\n",
       "      <td>Bitik</td>\n",
       "    </tr>\n",
       "  </tbody>\n",
       "</table>\n",
       "</div>"
      ],
      "text/plain": [
       "          Name  Gender  Age          Hobby  Cum_Age   Sex  \\\n",
       "0         Asad    Male   27          Pinik       27  Male   \n",
       "1       Konchi    Male   26          Pinik       53  Male   \n",
       "4       Chikni  Female   30     Past Crush      147  Male   \n",
       "6  Saddam Shot    Male   90   Fucking Slut      264  Male   \n",
       "7       Tugitt    Male   35  Fucking Boudi      299  Male   \n",
       "2        Laili  Female   39    Drug Dealer       92  Male   \n",
       "3         Fuda    Male   25          Bitik      117  Male   \n",
       "5       Valluk    Male   27          Bitik      174  Male   \n",
       "\n",
       "                                           Cum_Hobby  Dup_Age      Dup_Hobby  \n",
       "0                                              Pinik       27          Pinik  \n",
       "1                                         PinikPinik       26          Pinik  \n",
       "4               PinikPinikDrug DealerBitikPast Crush       30     Past Crush  \n",
       "6  PinikPinikDrug DealerBitikPast CrushBitikFucki...       90   Fucking Slut  \n",
       "7  PinikPinikDrug DealerBitikPast CrushBitikFucki...       35  Fucking Boudi  \n",
       "2                              PinikPinikDrug Dealer       39    Drug Dealer  \n",
       "3                         PinikPinikDrug DealerBitik       25          Bitik  \n",
       "5          PinikPinikDrug DealerBitikPast CrushBitik       27          Bitik  "
      ]
     },
     "execution_count": 44,
     "metadata": {},
     "output_type": "execute_result"
    }
   ],
   "source": [
    "df.sort_values(by='Dup_Hobby',ascending=False)"
   ]
  },
  {
   "cell_type": "code",
   "execution_count": 47,
   "metadata": {},
   "outputs": [],
   "source": [
    "df.sort_values(by='Age',ascending=True,inplace=True)"
   ]
  },
  {
   "cell_type": "code",
   "execution_count": 48,
   "metadata": {},
   "outputs": [
    {
     "data": {
      "text/html": [
       "<div>\n",
       "<style scoped>\n",
       "    .dataframe tbody tr th:only-of-type {\n",
       "        vertical-align: middle;\n",
       "    }\n",
       "\n",
       "    .dataframe tbody tr th {\n",
       "        vertical-align: top;\n",
       "    }\n",
       "\n",
       "    .dataframe thead th {\n",
       "        text-align: right;\n",
       "    }\n",
       "</style>\n",
       "<table border=\"1\" class=\"dataframe\">\n",
       "  <thead>\n",
       "    <tr style=\"text-align: right;\">\n",
       "      <th></th>\n",
       "      <th>Age</th>\n",
       "      <th>Cum_Age</th>\n",
       "    </tr>\n",
       "  </thead>\n",
       "  <tbody>\n",
       "    <tr>\n",
       "      <th>Age</th>\n",
       "      <td>1.000000</td>\n",
       "      <td>0.552751</td>\n",
       "    </tr>\n",
       "    <tr>\n",
       "      <th>Cum_Age</th>\n",
       "      <td>0.552751</td>\n",
       "      <td>1.000000</td>\n",
       "    </tr>\n",
       "  </tbody>\n",
       "</table>\n",
       "</div>"
      ],
      "text/plain": [
       "              Age   Cum_Age\n",
       "Age      1.000000  0.552751\n",
       "Cum_Age  0.552751  1.000000"
      ]
     },
     "execution_count": 48,
     "metadata": {},
     "output_type": "execute_result"
    }
   ],
   "source": [
    "df2"
   ]
  },
  {
   "cell_type": "code",
   "execution_count": 49,
   "metadata": {},
   "outputs": [],
   "source": [
    "df2.sort_values(by='Age',inplace=True)"
   ]
  },
  {
   "cell_type": "code",
   "execution_count": 50,
   "metadata": {},
   "outputs": [
    {
     "data": {
      "text/html": [
       "<div>\n",
       "<style scoped>\n",
       "    .dataframe tbody tr th:only-of-type {\n",
       "        vertical-align: middle;\n",
       "    }\n",
       "\n",
       "    .dataframe tbody tr th {\n",
       "        vertical-align: top;\n",
       "    }\n",
       "\n",
       "    .dataframe thead th {\n",
       "        text-align: right;\n",
       "    }\n",
       "</style>\n",
       "<table border=\"1\" class=\"dataframe\">\n",
       "  <thead>\n",
       "    <tr style=\"text-align: right;\">\n",
       "      <th></th>\n",
       "      <th>Age</th>\n",
       "      <th>Cum_Age</th>\n",
       "    </tr>\n",
       "  </thead>\n",
       "  <tbody>\n",
       "    <tr>\n",
       "      <th>Cum_Age</th>\n",
       "      <td>0.552751</td>\n",
       "      <td>1.000000</td>\n",
       "    </tr>\n",
       "    <tr>\n",
       "      <th>Age</th>\n",
       "      <td>1.000000</td>\n",
       "      <td>0.552751</td>\n",
       "    </tr>\n",
       "  </tbody>\n",
       "</table>\n",
       "</div>"
      ],
      "text/plain": [
       "              Age   Cum_Age\n",
       "Cum_Age  0.552751  1.000000\n",
       "Age      1.000000  0.552751"
      ]
     },
     "execution_count": 50,
     "metadata": {},
     "output_type": "execute_result"
    }
   ],
   "source": [
    "df2"
   ]
  },
  {
   "cell_type": "markdown",
   "metadata": {},
   "source": [
    "# Changing Values"
   ]
  },
  {
   "cell_type": "code",
   "execution_count": 51,
   "metadata": {},
   "outputs": [
    {
     "data": {
      "text/plain": [
       "3    25\n",
       "1    26\n",
       "0    27\n",
       "5    27\n",
       "4    30\n",
       "7    35\n",
       "2    39\n",
       "6    90\n",
       "Name: Age, dtype: int64"
      ]
     },
     "execution_count": 51,
     "metadata": {},
     "output_type": "execute_result"
    }
   ],
   "source": [
    "df['Age'].fillna(df['Age'].mean())"
   ]
  },
  {
   "cell_type": "code",
   "execution_count": 52,
   "metadata": {},
   "outputs": [],
   "source": [
    "c=df['Age'].fillna(df['Age'].mean())"
   ]
  },
  {
   "cell_type": "code",
   "execution_count": 53,
   "metadata": {},
   "outputs": [
    {
     "data": {
      "text/plain": [
       "pandas.core.series.Series"
      ]
     },
     "execution_count": 53,
     "metadata": {},
     "output_type": "execute_result"
    }
   ],
   "source": [
    "type(c)"
   ]
  },
  {
   "cell_type": "code",
   "execution_count": 60,
   "metadata": {},
   "outputs": [],
   "source": [
    "data={'Name':['Asad',np.nan,'Laili','Fuda',np.nan,'Valluk','Saddam Shot','Tugitt'],\n",
    "      'Gender':['Male','Male',np.nan,'Male','Female',np.nan,'Male','Male'],\n",
    "      'Age':[27,26,39,np.nan,30,27,np.nan,35],\n",
    "      'Hobby':['Pinik',np.nan,'Drug Dealer','Bitik',np.nan,'Bitik','Fucking Slut','Fucking Boudi']\n",
    "      \n",
    "      }"
   ]
  },
  {
   "cell_type": "code",
   "execution_count": 61,
   "metadata": {},
   "outputs": [],
   "source": [
    "df=pd.DataFrame(data)"
   ]
  },
  {
   "cell_type": "code",
   "execution_count": 62,
   "metadata": {},
   "outputs": [
    {
     "data": {
      "text/html": [
       "<div>\n",
       "<style scoped>\n",
       "    .dataframe tbody tr th:only-of-type {\n",
       "        vertical-align: middle;\n",
       "    }\n",
       "\n",
       "    .dataframe tbody tr th {\n",
       "        vertical-align: top;\n",
       "    }\n",
       "\n",
       "    .dataframe thead th {\n",
       "        text-align: right;\n",
       "    }\n",
       "</style>\n",
       "<table border=\"1\" class=\"dataframe\">\n",
       "  <thead>\n",
       "    <tr style=\"text-align: right;\">\n",
       "      <th></th>\n",
       "      <th>Name</th>\n",
       "      <th>Gender</th>\n",
       "      <th>Age</th>\n",
       "      <th>Hobby</th>\n",
       "    </tr>\n",
       "  </thead>\n",
       "  <tbody>\n",
       "    <tr>\n",
       "      <th>0</th>\n",
       "      <td>Asad</td>\n",
       "      <td>Male</td>\n",
       "      <td>27.0</td>\n",
       "      <td>Pinik</td>\n",
       "    </tr>\n",
       "    <tr>\n",
       "      <th>1</th>\n",
       "      <td>NaN</td>\n",
       "      <td>Male</td>\n",
       "      <td>26.0</td>\n",
       "      <td>NaN</td>\n",
       "    </tr>\n",
       "    <tr>\n",
       "      <th>2</th>\n",
       "      <td>Laili</td>\n",
       "      <td>NaN</td>\n",
       "      <td>39.0</td>\n",
       "      <td>Drug Dealer</td>\n",
       "    </tr>\n",
       "    <tr>\n",
       "      <th>3</th>\n",
       "      <td>Fuda</td>\n",
       "      <td>Male</td>\n",
       "      <td>NaN</td>\n",
       "      <td>Bitik</td>\n",
       "    </tr>\n",
       "    <tr>\n",
       "      <th>4</th>\n",
       "      <td>NaN</td>\n",
       "      <td>Female</td>\n",
       "      <td>30.0</td>\n",
       "      <td>NaN</td>\n",
       "    </tr>\n",
       "    <tr>\n",
       "      <th>5</th>\n",
       "      <td>Valluk</td>\n",
       "      <td>NaN</td>\n",
       "      <td>27.0</td>\n",
       "      <td>Bitik</td>\n",
       "    </tr>\n",
       "    <tr>\n",
       "      <th>6</th>\n",
       "      <td>Saddam Shot</td>\n",
       "      <td>Male</td>\n",
       "      <td>NaN</td>\n",
       "      <td>Fucking Slut</td>\n",
       "    </tr>\n",
       "    <tr>\n",
       "      <th>7</th>\n",
       "      <td>Tugitt</td>\n",
       "      <td>Male</td>\n",
       "      <td>35.0</td>\n",
       "      <td>Fucking Boudi</td>\n",
       "    </tr>\n",
       "  </tbody>\n",
       "</table>\n",
       "</div>"
      ],
      "text/plain": [
       "          Name  Gender   Age          Hobby\n",
       "0         Asad    Male  27.0          Pinik\n",
       "1          NaN    Male  26.0            NaN\n",
       "2        Laili     NaN  39.0    Drug Dealer\n",
       "3         Fuda    Male   NaN          Bitik\n",
       "4          NaN  Female  30.0            NaN\n",
       "5       Valluk     NaN  27.0          Bitik\n",
       "6  Saddam Shot    Male   NaN   Fucking Slut\n",
       "7       Tugitt    Male  35.0  Fucking Boudi"
      ]
     },
     "execution_count": 62,
     "metadata": {},
     "output_type": "execute_result"
    }
   ],
   "source": [
    "df"
   ]
  },
  {
   "cell_type": "code",
   "execution_count": 63,
   "metadata": {},
   "outputs": [
    {
     "data": {
      "text/plain": [
       "0    27.0\n",
       "1    26.0\n",
       "2    39.0\n",
       "3     NaN\n",
       "4    30.0\n",
       "5    27.0\n",
       "6     NaN\n",
       "7    35.0\n",
       "Name: Age, dtype: float64"
      ]
     },
     "execution_count": 63,
     "metadata": {},
     "output_type": "execute_result"
    }
   ],
   "source": [
    "df['Age']"
   ]
  },
  {
   "cell_type": "code",
   "execution_count": 65,
   "metadata": {},
   "outputs": [
    {
     "data": {
      "text/plain": [
       "0    27.0\n",
       "1    26.0\n",
       "2    39.0\n",
       "3     NaN\n",
       "4    30.0\n",
       "5    27.0\n",
       "6     NaN\n",
       "7    35.0\n",
       "Name: Age, dtype: float64"
      ]
     },
     "execution_count": 65,
     "metadata": {},
     "output_type": "execute_result"
    }
   ],
   "source": [
    "df['Age'].fillna(df['Age'])"
   ]
  },
  {
   "cell_type": "code",
   "execution_count": 66,
   "metadata": {},
   "outputs": [
    {
     "data": {
      "text/plain": [
       "0    27.000000\n",
       "1    26.000000\n",
       "2    39.000000\n",
       "3    30.666667\n",
       "4    30.000000\n",
       "5    27.000000\n",
       "6    30.666667\n",
       "7    35.000000\n",
       "Name: Age, dtype: float64"
      ]
     },
     "execution_count": 66,
     "metadata": {},
     "output_type": "execute_result"
    }
   ],
   "source": [
    "df['Age'].fillna(df['Age'].mean())"
   ]
  },
  {
   "cell_type": "code",
   "execution_count": 67,
   "metadata": {},
   "outputs": [
    {
     "data": {
      "text/plain": [
       "<bound method NDFrame.fillna of 0    27.0\n",
       "1    26.0\n",
       "2    39.0\n",
       "3     NaN\n",
       "4    30.0\n",
       "5    27.0\n",
       "6     NaN\n",
       "7    35.0\n",
       "Name: Age, dtype: float64>"
      ]
     },
     "execution_count": 67,
     "metadata": {},
     "output_type": "execute_result"
    }
   ],
   "source": [
    "df['Age'].fillna"
   ]
  },
  {
   "cell_type": "code",
   "execution_count": 68,
   "metadata": {},
   "outputs": [
    {
     "data": {
      "text/plain": [
       "0    27.000000\n",
       "1    26.000000\n",
       "2    39.000000\n",
       "3    30.666667\n",
       "4    30.000000\n",
       "5    27.000000\n",
       "6    30.666667\n",
       "7    35.000000\n",
       "Name: Age, dtype: float64"
      ]
     },
     "execution_count": 68,
     "metadata": {},
     "output_type": "execute_result"
    }
   ],
   "source": [
    "df['Age'].fillna(df['Age'].mean())"
   ]
  },
  {
   "cell_type": "code",
   "execution_count": 86,
   "metadata": {},
   "outputs": [],
   "source": [
    "df['Gender'].fillna(df['Gender'].mode()[0],inplace=True)"
   ]
  },
  {
   "cell_type": "code",
   "execution_count": 83,
   "metadata": {},
   "outputs": [
    {
     "data": {
      "text/plain": [
       "0      Male\n",
       "1      Male\n",
       "2      Male\n",
       "3      Male\n",
       "4    Female\n",
       "5      Male\n",
       "6      Male\n",
       "7      Male\n",
       "Name: Gender, dtype: object"
      ]
     },
     "execution_count": 83,
     "metadata": {},
     "output_type": "execute_result"
    }
   ],
   "source": [
    "df['Gender']"
   ]
  },
  {
   "cell_type": "code",
   "execution_count": 87,
   "metadata": {},
   "outputs": [
    {
     "data": {
      "text/plain": [
       "0    Male\n",
       "Name: Gender, dtype: object"
      ]
     },
     "execution_count": 87,
     "metadata": {},
     "output_type": "execute_result"
    }
   ],
   "source": [
    "df['Gender'].mode()"
   ]
  },
  {
   "cell_type": "code",
   "execution_count": 89,
   "metadata": {},
   "outputs": [
    {
     "data": {
      "text/html": [
       "<div>\n",
       "<style scoped>\n",
       "    .dataframe tbody tr th:only-of-type {\n",
       "        vertical-align: middle;\n",
       "    }\n",
       "\n",
       "    .dataframe tbody tr th {\n",
       "        vertical-align: top;\n",
       "    }\n",
       "\n",
       "    .dataframe thead th {\n",
       "        text-align: right;\n",
       "    }\n",
       "</style>\n",
       "<table border=\"1\" class=\"dataframe\">\n",
       "  <thead>\n",
       "    <tr style=\"text-align: right;\">\n",
       "      <th></th>\n",
       "      <th>Name</th>\n",
       "      <th>Gender</th>\n",
       "      <th>Age</th>\n",
       "      <th>Hobby</th>\n",
       "    </tr>\n",
       "  </thead>\n",
       "  <tbody>\n",
       "    <tr>\n",
       "      <th>0</th>\n",
       "      <td>Asad</td>\n",
       "      <td>Male</td>\n",
       "      <td>27.0</td>\n",
       "      <td>Pinik</td>\n",
       "    </tr>\n",
       "    <tr>\n",
       "      <th>1</th>\n",
       "      <td>NaN</td>\n",
       "      <td>Male</td>\n",
       "      <td>26.0</td>\n",
       "      <td>NaN</td>\n",
       "    </tr>\n",
       "    <tr>\n",
       "      <th>2</th>\n",
       "      <td>Laili</td>\n",
       "      <td>Male</td>\n",
       "      <td>39.0</td>\n",
       "      <td>Drug Dealer</td>\n",
       "    </tr>\n",
       "    <tr>\n",
       "      <th>3</th>\n",
       "      <td>Fuda</td>\n",
       "      <td>Male</td>\n",
       "      <td>NaN</td>\n",
       "      <td>Bitik</td>\n",
       "    </tr>\n",
       "    <tr>\n",
       "      <th>4</th>\n",
       "      <td>NaN</td>\n",
       "      <td>Female</td>\n",
       "      <td>30.0</td>\n",
       "      <td>NaN</td>\n",
       "    </tr>\n",
       "    <tr>\n",
       "      <th>5</th>\n",
       "      <td>Valluk</td>\n",
       "      <td>Male</td>\n",
       "      <td>27.0</td>\n",
       "      <td>Bitik</td>\n",
       "    </tr>\n",
       "    <tr>\n",
       "      <th>6</th>\n",
       "      <td>Saddam Shot</td>\n",
       "      <td>Male</td>\n",
       "      <td>NaN</td>\n",
       "      <td>Fucking Slut</td>\n",
       "    </tr>\n",
       "    <tr>\n",
       "      <th>7</th>\n",
       "      <td>Tugitt</td>\n",
       "      <td>Male</td>\n",
       "      <td>35.0</td>\n",
       "      <td>Fucking Boudi</td>\n",
       "    </tr>\n",
       "  </tbody>\n",
       "</table>\n",
       "</div>"
      ],
      "text/plain": [
       "          Name  Gender   Age          Hobby\n",
       "0         Asad    Male  27.0          Pinik\n",
       "1          NaN    Male  26.0            NaN\n",
       "2        Laili    Male  39.0    Drug Dealer\n",
       "3         Fuda    Male   NaN          Bitik\n",
       "4          NaN  Female  30.0            NaN\n",
       "5       Valluk    Male  27.0          Bitik\n",
       "6  Saddam Shot    Male   NaN   Fucking Slut\n",
       "7       Tugitt    Male  35.0  Fucking Boudi"
      ]
     },
     "execution_count": 89,
     "metadata": {},
     "output_type": "execute_result"
    }
   ],
   "source": [
    "df"
   ]
  },
  {
   "cell_type": "code",
   "execution_count": 90,
   "metadata": {},
   "outputs": [],
   "source": [
    "df['Gender'].fillna(df['Gender'].mode()[0], inplace=True)\n"
   ]
  },
  {
   "cell_type": "code",
   "execution_count": 91,
   "metadata": {},
   "outputs": [
    {
     "data": {
      "text/plain": [
       "0      Male\n",
       "1      Male\n",
       "2      Male\n",
       "3      Male\n",
       "4    Female\n",
       "5      Male\n",
       "6      Male\n",
       "7      Male\n",
       "Name: Gender, dtype: object"
      ]
     },
     "execution_count": 91,
     "metadata": {},
     "output_type": "execute_result"
    }
   ],
   "source": [
    "df['Gender']"
   ]
  },
  {
   "cell_type": "code",
   "execution_count": 93,
   "metadata": {},
   "outputs": [
    {
     "data": {
      "text/plain": [
       "0    27.0\n",
       "Name: Age, dtype: float64"
      ]
     },
     "execution_count": 93,
     "metadata": {},
     "output_type": "execute_result"
    }
   ],
   "source": [
    "df['Age'].mode()"
   ]
  },
  {
   "cell_type": "code",
   "execution_count": 94,
   "metadata": {},
   "outputs": [
    {
     "data": {
      "text/plain": [
       "0    Male\n",
       "Name: Gender, dtype: object"
      ]
     },
     "execution_count": 94,
     "metadata": {},
     "output_type": "execute_result"
    }
   ],
   "source": [
    "df['Gender'].mode()"
   ]
  },
  {
   "cell_type": "code",
   "execution_count": 95,
   "metadata": {},
   "outputs": [
    {
     "data": {
      "text/plain": [
       "np.float64(30.666666666666668)"
      ]
     },
     "execution_count": 95,
     "metadata": {},
     "output_type": "execute_result"
    }
   ],
   "source": [
    "df['Age'].mean()"
   ]
  },
  {
   "cell_type": "code",
   "execution_count": 96,
   "metadata": {},
   "outputs": [
    {
     "data": {
      "text/html": [
       "<div>\n",
       "<style scoped>\n",
       "    .dataframe tbody tr th:only-of-type {\n",
       "        vertical-align: middle;\n",
       "    }\n",
       "\n",
       "    .dataframe tbody tr th {\n",
       "        vertical-align: top;\n",
       "    }\n",
       "\n",
       "    .dataframe thead th {\n",
       "        text-align: right;\n",
       "    }\n",
       "</style>\n",
       "<table border=\"1\" class=\"dataframe\">\n",
       "  <thead>\n",
       "    <tr style=\"text-align: right;\">\n",
       "      <th></th>\n",
       "      <th>Name</th>\n",
       "      <th>Gender</th>\n",
       "      <th>Age</th>\n",
       "      <th>Hobby</th>\n",
       "    </tr>\n",
       "  </thead>\n",
       "  <tbody>\n",
       "    <tr>\n",
       "      <th>0</th>\n",
       "      <td>Asad</td>\n",
       "      <td>Male</td>\n",
       "      <td>27.0</td>\n",
       "      <td>Pinik</td>\n",
       "    </tr>\n",
       "    <tr>\n",
       "      <th>1</th>\n",
       "      <td>NaN</td>\n",
       "      <td>Male</td>\n",
       "      <td>26.0</td>\n",
       "      <td>NaN</td>\n",
       "    </tr>\n",
       "    <tr>\n",
       "      <th>2</th>\n",
       "      <td>Laili</td>\n",
       "      <td>Male</td>\n",
       "      <td>39.0</td>\n",
       "      <td>Drug Dealer</td>\n",
       "    </tr>\n",
       "    <tr>\n",
       "      <th>3</th>\n",
       "      <td>Fuda</td>\n",
       "      <td>Male</td>\n",
       "      <td>NaN</td>\n",
       "      <td>Bitik</td>\n",
       "    </tr>\n",
       "    <tr>\n",
       "      <th>4</th>\n",
       "      <td>NaN</td>\n",
       "      <td>Female</td>\n",
       "      <td>30.0</td>\n",
       "      <td>NaN</td>\n",
       "    </tr>\n",
       "    <tr>\n",
       "      <th>5</th>\n",
       "      <td>Valluk</td>\n",
       "      <td>Male</td>\n",
       "      <td>27.0</td>\n",
       "      <td>Bitik</td>\n",
       "    </tr>\n",
       "    <tr>\n",
       "      <th>6</th>\n",
       "      <td>Saddam Shot</td>\n",
       "      <td>Male</td>\n",
       "      <td>NaN</td>\n",
       "      <td>Fucking Slut</td>\n",
       "    </tr>\n",
       "    <tr>\n",
       "      <th>7</th>\n",
       "      <td>Tugitt</td>\n",
       "      <td>Male</td>\n",
       "      <td>35.0</td>\n",
       "      <td>Fucking Boudi</td>\n",
       "    </tr>\n",
       "  </tbody>\n",
       "</table>\n",
       "</div>"
      ],
      "text/plain": [
       "          Name  Gender   Age          Hobby\n",
       "0         Asad    Male  27.0          Pinik\n",
       "1          NaN    Male  26.0            NaN\n",
       "2        Laili    Male  39.0    Drug Dealer\n",
       "3         Fuda    Male   NaN          Bitik\n",
       "4          NaN  Female  30.0            NaN\n",
       "5       Valluk    Male  27.0          Bitik\n",
       "6  Saddam Shot    Male   NaN   Fucking Slut\n",
       "7       Tugitt    Male  35.0  Fucking Boudi"
      ]
     },
     "execution_count": 96,
     "metadata": {},
     "output_type": "execute_result"
    }
   ],
   "source": [
    "df"
   ]
  },
  {
   "cell_type": "code",
   "execution_count": 97,
   "metadata": {},
   "outputs": [],
   "source": [
    "df['Name'].fillna(df['Name'].mode(),inplace=True)"
   ]
  },
  {
   "cell_type": "code",
   "execution_count": 98,
   "metadata": {},
   "outputs": [
    {
     "data": {
      "text/plain": [
       "0           Asad\n",
       "1           Fuda\n",
       "2          Laili\n",
       "3           Fuda\n",
       "4         Tugitt\n",
       "5         Valluk\n",
       "6    Saddam Shot\n",
       "7         Tugitt\n",
       "Name: Name, dtype: object"
      ]
     },
     "execution_count": 98,
     "metadata": {},
     "output_type": "execute_result"
    }
   ],
   "source": [
    "df['Name']"
   ]
  },
  {
   "cell_type": "code",
   "execution_count": 99,
   "metadata": {},
   "outputs": [
    {
     "data": {
      "text/html": [
       "<div>\n",
       "<style scoped>\n",
       "    .dataframe tbody tr th:only-of-type {\n",
       "        vertical-align: middle;\n",
       "    }\n",
       "\n",
       "    .dataframe tbody tr th {\n",
       "        vertical-align: top;\n",
       "    }\n",
       "\n",
       "    .dataframe thead th {\n",
       "        text-align: right;\n",
       "    }\n",
       "</style>\n",
       "<table border=\"1\" class=\"dataframe\">\n",
       "  <thead>\n",
       "    <tr style=\"text-align: right;\">\n",
       "      <th></th>\n",
       "      <th>Name</th>\n",
       "      <th>Gender</th>\n",
       "      <th>Age</th>\n",
       "      <th>Hobby</th>\n",
       "    </tr>\n",
       "  </thead>\n",
       "  <tbody>\n",
       "    <tr>\n",
       "      <th>0</th>\n",
       "      <td>Asad</td>\n",
       "      <td>Male</td>\n",
       "      <td>27.0</td>\n",
       "      <td>Pinik</td>\n",
       "    </tr>\n",
       "    <tr>\n",
       "      <th>1</th>\n",
       "      <td>Fuda</td>\n",
       "      <td>Male</td>\n",
       "      <td>26.0</td>\n",
       "      <td>NaN</td>\n",
       "    </tr>\n",
       "    <tr>\n",
       "      <th>2</th>\n",
       "      <td>Laili</td>\n",
       "      <td>Male</td>\n",
       "      <td>39.0</td>\n",
       "      <td>Drug Dealer</td>\n",
       "    </tr>\n",
       "    <tr>\n",
       "      <th>3</th>\n",
       "      <td>Fuda</td>\n",
       "      <td>Male</td>\n",
       "      <td>NaN</td>\n",
       "      <td>Bitik</td>\n",
       "    </tr>\n",
       "    <tr>\n",
       "      <th>4</th>\n",
       "      <td>Tugitt</td>\n",
       "      <td>Female</td>\n",
       "      <td>30.0</td>\n",
       "      <td>NaN</td>\n",
       "    </tr>\n",
       "    <tr>\n",
       "      <th>5</th>\n",
       "      <td>Valluk</td>\n",
       "      <td>Male</td>\n",
       "      <td>27.0</td>\n",
       "      <td>Bitik</td>\n",
       "    </tr>\n",
       "    <tr>\n",
       "      <th>6</th>\n",
       "      <td>Saddam Shot</td>\n",
       "      <td>Male</td>\n",
       "      <td>NaN</td>\n",
       "      <td>Fucking Slut</td>\n",
       "    </tr>\n",
       "    <tr>\n",
       "      <th>7</th>\n",
       "      <td>Tugitt</td>\n",
       "      <td>Male</td>\n",
       "      <td>35.0</td>\n",
       "      <td>Fucking Boudi</td>\n",
       "    </tr>\n",
       "  </tbody>\n",
       "</table>\n",
       "</div>"
      ],
      "text/plain": [
       "          Name  Gender   Age          Hobby\n",
       "0         Asad    Male  27.0          Pinik\n",
       "1         Fuda    Male  26.0            NaN\n",
       "2        Laili    Male  39.0    Drug Dealer\n",
       "3         Fuda    Male   NaN          Bitik\n",
       "4       Tugitt  Female  30.0            NaN\n",
       "5       Valluk    Male  27.0          Bitik\n",
       "6  Saddam Shot    Male   NaN   Fucking Slut\n",
       "7       Tugitt    Male  35.0  Fucking Boudi"
      ]
     },
     "execution_count": 99,
     "metadata": {},
     "output_type": "execute_result"
    }
   ],
   "source": [
    "df"
   ]
  },
  {
   "cell_type": "code",
   "execution_count": 100,
   "metadata": {},
   "outputs": [
    {
     "data": {
      "text/plain": [
       "0    27.000000\n",
       "1    26.000000\n",
       "2    39.000000\n",
       "3    30.666667\n",
       "4    30.000000\n",
       "5    27.000000\n",
       "6    30.666667\n",
       "7    35.000000\n",
       "Name: Age, dtype: float64"
      ]
     },
     "execution_count": 100,
     "metadata": {},
     "output_type": "execute_result"
    }
   ],
   "source": [
    "df['Age'].fillna(df['Age'].mean())"
   ]
  },
  {
   "cell_type": "code",
   "execution_count": 101,
   "metadata": {},
   "outputs": [
    {
     "data": {
      "text/plain": [
       "0    27.0\n",
       "1    26.0\n",
       "2    39.0\n",
       "3     NaN\n",
       "4    30.0\n",
       "5    27.0\n",
       "6     NaN\n",
       "7    35.0\n",
       "Name: Age, dtype: float64"
      ]
     },
     "execution_count": 101,
     "metadata": {},
     "output_type": "execute_result"
    }
   ],
   "source": [
    "df['Age']"
   ]
  },
  {
   "cell_type": "code",
   "execution_count": 102,
   "metadata": {},
   "outputs": [],
   "source": [
    "df['Age']=df['Age'].fillna(df['Age'].mean())"
   ]
  },
  {
   "cell_type": "code",
   "execution_count": 103,
   "metadata": {},
   "outputs": [
    {
     "data": {
      "text/plain": [
       "0    27.000000\n",
       "1    26.000000\n",
       "2    39.000000\n",
       "3    30.666667\n",
       "4    30.000000\n",
       "5    27.000000\n",
       "6    30.666667\n",
       "7    35.000000\n",
       "Name: Age, dtype: float64"
      ]
     },
     "execution_count": 103,
     "metadata": {},
     "output_type": "execute_result"
    }
   ],
   "source": [
    "df['Age']"
   ]
  },
  {
   "cell_type": "code",
   "execution_count": 104,
   "metadata": {},
   "outputs": [
    {
     "data": {
      "text/html": [
       "<div>\n",
       "<style scoped>\n",
       "    .dataframe tbody tr th:only-of-type {\n",
       "        vertical-align: middle;\n",
       "    }\n",
       "\n",
       "    .dataframe tbody tr th {\n",
       "        vertical-align: top;\n",
       "    }\n",
       "\n",
       "    .dataframe thead th {\n",
       "        text-align: right;\n",
       "    }\n",
       "</style>\n",
       "<table border=\"1\" class=\"dataframe\">\n",
       "  <thead>\n",
       "    <tr style=\"text-align: right;\">\n",
       "      <th></th>\n",
       "      <th>Name</th>\n",
       "      <th>Gender</th>\n",
       "      <th>Age</th>\n",
       "      <th>Hobby</th>\n",
       "    </tr>\n",
       "  </thead>\n",
       "  <tbody>\n",
       "    <tr>\n",
       "      <th>0</th>\n",
       "      <td>Asad</td>\n",
       "      <td>Male</td>\n",
       "      <td>27.000000</td>\n",
       "      <td>Pinik</td>\n",
       "    </tr>\n",
       "    <tr>\n",
       "      <th>1</th>\n",
       "      <td>Fuda</td>\n",
       "      <td>Male</td>\n",
       "      <td>26.000000</td>\n",
       "      <td>NaN</td>\n",
       "    </tr>\n",
       "    <tr>\n",
       "      <th>2</th>\n",
       "      <td>Laili</td>\n",
       "      <td>Male</td>\n",
       "      <td>39.000000</td>\n",
       "      <td>Drug Dealer</td>\n",
       "    </tr>\n",
       "    <tr>\n",
       "      <th>3</th>\n",
       "      <td>Fuda</td>\n",
       "      <td>Male</td>\n",
       "      <td>30.666667</td>\n",
       "      <td>Bitik</td>\n",
       "    </tr>\n",
       "    <tr>\n",
       "      <th>4</th>\n",
       "      <td>Tugitt</td>\n",
       "      <td>Female</td>\n",
       "      <td>30.000000</td>\n",
       "      <td>NaN</td>\n",
       "    </tr>\n",
       "    <tr>\n",
       "      <th>5</th>\n",
       "      <td>Valluk</td>\n",
       "      <td>Male</td>\n",
       "      <td>27.000000</td>\n",
       "      <td>Bitik</td>\n",
       "    </tr>\n",
       "    <tr>\n",
       "      <th>6</th>\n",
       "      <td>Saddam Shot</td>\n",
       "      <td>Male</td>\n",
       "      <td>30.666667</td>\n",
       "      <td>Fucking Slut</td>\n",
       "    </tr>\n",
       "    <tr>\n",
       "      <th>7</th>\n",
       "      <td>Tugitt</td>\n",
       "      <td>Male</td>\n",
       "      <td>35.000000</td>\n",
       "      <td>Fucking Boudi</td>\n",
       "    </tr>\n",
       "  </tbody>\n",
       "</table>\n",
       "</div>"
      ],
      "text/plain": [
       "          Name  Gender        Age          Hobby\n",
       "0         Asad    Male  27.000000          Pinik\n",
       "1         Fuda    Male  26.000000            NaN\n",
       "2        Laili    Male  39.000000    Drug Dealer\n",
       "3         Fuda    Male  30.666667          Bitik\n",
       "4       Tugitt  Female  30.000000            NaN\n",
       "5       Valluk    Male  27.000000          Bitik\n",
       "6  Saddam Shot    Male  30.666667   Fucking Slut\n",
       "7       Tugitt    Male  35.000000  Fucking Boudi"
      ]
     },
     "execution_count": 104,
     "metadata": {},
     "output_type": "execute_result"
    }
   ],
   "source": [
    "df"
   ]
  },
  {
   "cell_type": "code",
   "execution_count": 119,
   "metadata": {},
   "outputs": [
    {
     "name": "stdout",
     "output_type": "stream",
     "text": [
      "No mode found for the 'Hobby' column.\n",
      "          Name  Gender        Age Hobby\n",
      "0         Asad    Male  27.000000  None\n",
      "1         Fuda    Male  26.000000  None\n",
      "2        Laili    Male  39.000000  None\n",
      "3         Fuda    Male  30.666667  None\n",
      "4       Tugitt  Female  30.000000  None\n",
      "5       Valluk    Male  27.000000  None\n",
      "6  Saddam Shot    Male  30.666667  None\n",
      "7       Tugitt    Male  35.000000  None\n"
     ]
    }
   ],
   "source": [
    "if not df['Hobby'].mode().empty:\n",
    "    df['Hobby'].fillna(df['Hobby'].mode()[0], inplace=True)\n",
    "else:\n",
    "    print(\"No mode found for the 'Hobby' column.\")\n",
    "\n",
    "print(df)"
   ]
  },
  {
   "cell_type": "code",
   "execution_count": 120,
   "metadata": {},
   "outputs": [
    {
     "data": {
      "text/html": [
       "<div>\n",
       "<style scoped>\n",
       "    .dataframe tbody tr th:only-of-type {\n",
       "        vertical-align: middle;\n",
       "    }\n",
       "\n",
       "    .dataframe tbody tr th {\n",
       "        vertical-align: top;\n",
       "    }\n",
       "\n",
       "    .dataframe thead th {\n",
       "        text-align: right;\n",
       "    }\n",
       "</style>\n",
       "<table border=\"1\" class=\"dataframe\">\n",
       "  <thead>\n",
       "    <tr style=\"text-align: right;\">\n",
       "      <th></th>\n",
       "      <th>Name</th>\n",
       "      <th>Gender</th>\n",
       "      <th>Age</th>\n",
       "      <th>Hobby</th>\n",
       "    </tr>\n",
       "  </thead>\n",
       "  <tbody>\n",
       "    <tr>\n",
       "      <th>0</th>\n",
       "      <td>Asad</td>\n",
       "      <td>Male</td>\n",
       "      <td>27.000000</td>\n",
       "      <td>None</td>\n",
       "    </tr>\n",
       "    <tr>\n",
       "      <th>1</th>\n",
       "      <td>Fuda</td>\n",
       "      <td>Male</td>\n",
       "      <td>26.000000</td>\n",
       "      <td>None</td>\n",
       "    </tr>\n",
       "    <tr>\n",
       "      <th>2</th>\n",
       "      <td>Laili</td>\n",
       "      <td>Male</td>\n",
       "      <td>39.000000</td>\n",
       "      <td>None</td>\n",
       "    </tr>\n",
       "    <tr>\n",
       "      <th>3</th>\n",
       "      <td>Fuda</td>\n",
       "      <td>Male</td>\n",
       "      <td>30.666667</td>\n",
       "      <td>None</td>\n",
       "    </tr>\n",
       "    <tr>\n",
       "      <th>4</th>\n",
       "      <td>Tugitt</td>\n",
       "      <td>Female</td>\n",
       "      <td>30.000000</td>\n",
       "      <td>None</td>\n",
       "    </tr>\n",
       "    <tr>\n",
       "      <th>5</th>\n",
       "      <td>Valluk</td>\n",
       "      <td>Male</td>\n",
       "      <td>27.000000</td>\n",
       "      <td>None</td>\n",
       "    </tr>\n",
       "    <tr>\n",
       "      <th>6</th>\n",
       "      <td>Saddam Shot</td>\n",
       "      <td>Male</td>\n",
       "      <td>30.666667</td>\n",
       "      <td>None</td>\n",
       "    </tr>\n",
       "    <tr>\n",
       "      <th>7</th>\n",
       "      <td>Tugitt</td>\n",
       "      <td>Male</td>\n",
       "      <td>35.000000</td>\n",
       "      <td>None</td>\n",
       "    </tr>\n",
       "  </tbody>\n",
       "</table>\n",
       "</div>"
      ],
      "text/plain": [
       "          Name  Gender        Age Hobby\n",
       "0         Asad    Male  27.000000  None\n",
       "1         Fuda    Male  26.000000  None\n",
       "2        Laili    Male  39.000000  None\n",
       "3         Fuda    Male  30.666667  None\n",
       "4       Tugitt  Female  30.000000  None\n",
       "5       Valluk    Male  27.000000  None\n",
       "6  Saddam Shot    Male  30.666667  None\n",
       "7       Tugitt    Male  35.000000  None"
      ]
     },
     "execution_count": 120,
     "metadata": {},
     "output_type": "execute_result"
    }
   ],
   "source": [
    "df"
   ]
  },
  {
   "cell_type": "markdown",
   "metadata": {},
   "source": [
    "# Maping"
   ]
  },
  {
   "cell_type": "code",
   "execution_count": 121,
   "metadata": {},
   "outputs": [],
   "source": [
    "data={'Name':['Asad','konchi','Laili','Fuda','Chikni','Valluk','Saddam Shot','Tugitt'],\n",
    "      'Gender':['Male','Male','Female','Male','Female','Male','Male','Male'],\n",
    "      'Age':[27,26,39,26,30,27,90,35],\n",
    "      'Hobby':['Pinik','Pinik','Drug Dealer','Bitik','Past Crush','Bitik','Fucking Slut','Fucking Boudi']\n",
    "      \n",
    "      }"
   ]
  },
  {
   "cell_type": "code",
   "execution_count": 122,
   "metadata": {},
   "outputs": [],
   "source": [
    "df=pd.DataFrame(data)"
   ]
  },
  {
   "cell_type": "code",
   "execution_count": 124,
   "metadata": {},
   "outputs": [],
   "source": [
    "df['Gender_maping']=df['Gender'].map({'Male':1,'Female':0})"
   ]
  },
  {
   "cell_type": "code",
   "execution_count": 125,
   "metadata": {},
   "outputs": [
    {
     "data": {
      "text/html": [
       "<div>\n",
       "<style scoped>\n",
       "    .dataframe tbody tr th:only-of-type {\n",
       "        vertical-align: middle;\n",
       "    }\n",
       "\n",
       "    .dataframe tbody tr th {\n",
       "        vertical-align: top;\n",
       "    }\n",
       "\n",
       "    .dataframe thead th {\n",
       "        text-align: right;\n",
       "    }\n",
       "</style>\n",
       "<table border=\"1\" class=\"dataframe\">\n",
       "  <thead>\n",
       "    <tr style=\"text-align: right;\">\n",
       "      <th></th>\n",
       "      <th>Name</th>\n",
       "      <th>Gender</th>\n",
       "      <th>Age</th>\n",
       "      <th>Hobby</th>\n",
       "      <th>Gender_maping</th>\n",
       "    </tr>\n",
       "  </thead>\n",
       "  <tbody>\n",
       "    <tr>\n",
       "      <th>0</th>\n",
       "      <td>Asad</td>\n",
       "      <td>Male</td>\n",
       "      <td>27</td>\n",
       "      <td>Pinik</td>\n",
       "      <td>1</td>\n",
       "    </tr>\n",
       "    <tr>\n",
       "      <th>1</th>\n",
       "      <td>konchi</td>\n",
       "      <td>Male</td>\n",
       "      <td>26</td>\n",
       "      <td>Pinik</td>\n",
       "      <td>1</td>\n",
       "    </tr>\n",
       "    <tr>\n",
       "      <th>2</th>\n",
       "      <td>Laili</td>\n",
       "      <td>Female</td>\n",
       "      <td>39</td>\n",
       "      <td>Drug Dealer</td>\n",
       "      <td>0</td>\n",
       "    </tr>\n",
       "    <tr>\n",
       "      <th>3</th>\n",
       "      <td>Fuda</td>\n",
       "      <td>Male</td>\n",
       "      <td>26</td>\n",
       "      <td>Bitik</td>\n",
       "      <td>1</td>\n",
       "    </tr>\n",
       "    <tr>\n",
       "      <th>4</th>\n",
       "      <td>Chikni</td>\n",
       "      <td>Female</td>\n",
       "      <td>30</td>\n",
       "      <td>Past Crush</td>\n",
       "      <td>0</td>\n",
       "    </tr>\n",
       "    <tr>\n",
       "      <th>5</th>\n",
       "      <td>Valluk</td>\n",
       "      <td>Male</td>\n",
       "      <td>27</td>\n",
       "      <td>Bitik</td>\n",
       "      <td>1</td>\n",
       "    </tr>\n",
       "    <tr>\n",
       "      <th>6</th>\n",
       "      <td>Saddam Shot</td>\n",
       "      <td>Male</td>\n",
       "      <td>90</td>\n",
       "      <td>Fucking Slut</td>\n",
       "      <td>1</td>\n",
       "    </tr>\n",
       "    <tr>\n",
       "      <th>7</th>\n",
       "      <td>Tugitt</td>\n",
       "      <td>Male</td>\n",
       "      <td>35</td>\n",
       "      <td>Fucking Boudi</td>\n",
       "      <td>1</td>\n",
       "    </tr>\n",
       "  </tbody>\n",
       "</table>\n",
       "</div>"
      ],
      "text/plain": [
       "          Name  Gender  Age          Hobby  Gender_maping\n",
       "0         Asad    Male   27          Pinik              1\n",
       "1       konchi    Male   26          Pinik              1\n",
       "2        Laili  Female   39    Drug Dealer              0\n",
       "3         Fuda    Male   26          Bitik              1\n",
       "4       Chikni  Female   30     Past Crush              0\n",
       "5       Valluk    Male   27          Bitik              1\n",
       "6  Saddam Shot    Male   90   Fucking Slut              1\n",
       "7       Tugitt    Male   35  Fucking Boudi              1"
      ]
     },
     "execution_count": 125,
     "metadata": {},
     "output_type": "execute_result"
    }
   ],
   "source": [
    "df"
   ]
  },
  {
   "cell_type": "code",
   "execution_count": null,
   "metadata": {},
   "outputs": [],
   "source": []
  }
 ],
 "metadata": {
  "kernelspec": {
   "display_name": "Python 3",
   "language": "python",
   "name": "python3"
  },
  "language_info": {
   "codemirror_mode": {
    "name": "ipython",
    "version": 3
   },
   "file_extension": ".py",
   "mimetype": "text/x-python",
   "name": "python",
   "nbconvert_exporter": "python",
   "pygments_lexer": "ipython3",
   "version": "3.12.4"
  }
 },
 "nbformat": 4,
 "nbformat_minor": 2
}
